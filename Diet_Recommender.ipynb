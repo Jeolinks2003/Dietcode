{
 "cells": [
  {
   "cell_type": "code",
   "execution_count": 1,
   "metadata": {
    "id": "Txg-E3AWoB1m"
   },
   "outputs": [],
   "source": [
    "import numpy as np\n",
    "import pandas as pd\n",
    "from sklearn.cluster import KMeans\n",
    "from sklearn.preprocessing import MinMaxScaler\n",
    "from sklearn.model_selection import train_test_split\n",
    "from sklearn.svm import SVC\n",
    "from sklearn.metrics import accuracy_score\n",
    "from sklearn.decomposition import PCA\n",
    "from sklearn.preprocessing import StandardScaler\n",
    "from sklearn.model_selection import cross_val_score\n",
    "from sklearn.feature_selection import SelectKBest, f_classif\n",
    "from sklearn.model_selection import GridSearchCV\n",
    "from sklearn.ensemble import RandomForestClassifier\n",
    "from sklearn.neural_network import MLPClassifier\n",
    "from sklearn.pipeline import Pipeline\n",
    "from sklearn.metrics import classification_report\n",
    "import matplotlib.pyplot as plt\n",
    "from sklearn.preprocessing import OneHotEncoder\n",
    "from sklearn.compose import ColumnTransformer\n",
    "import warnings\n",
    "\n",
    "warnings.filterwarnings(\"ignore\")"
   ]
  },
  {
   "cell_type": "code",
   "execution_count": 2,
   "metadata": {
    "id": "PpEIg0e1pHM3"
   },
   "outputs": [],
   "source": [
    "# Load the dataset\n",
    "df = pd.read_csv('ABBREV.csv')\n"
   ]
  },
  {
   "cell_type": "code",
   "execution_count": 3,
   "metadata": {},
   "outputs": [
    {
     "data": {
      "text/html": [
       "<div>\n",
       "<style scoped>\n",
       "    .dataframe tbody tr th:only-of-type {\n",
       "        vertical-align: middle;\n",
       "    }\n",
       "\n",
       "    .dataframe tbody tr th {\n",
       "        vertical-align: top;\n",
       "    }\n",
       "\n",
       "    .dataframe thead th {\n",
       "        text-align: right;\n",
       "    }\n",
       "</style>\n",
       "<table border=\"1\" class=\"dataframe\">\n",
       "  <thead>\n",
       "    <tr style=\"text-align: right;\">\n",
       "      <th></th>\n",
       "      <th>index</th>\n",
       "      <th>NDB_No</th>\n",
       "      <th>Shrt_Desc</th>\n",
       "      <th>Water_(g)</th>\n",
       "      <th>Energ_Kcal</th>\n",
       "      <th>Protein_(g)</th>\n",
       "      <th>Lipid_Tot_(g)</th>\n",
       "      <th>Ash_(g)</th>\n",
       "      <th>Carbohydrt_(g)</th>\n",
       "      <th>Fiber_TD_(g)</th>\n",
       "      <th>...</th>\n",
       "      <th>Vit_K_(µg)</th>\n",
       "      <th>FA_Sat_(g)</th>\n",
       "      <th>FA_Mono_(g)</th>\n",
       "      <th>FA_Poly_(g)</th>\n",
       "      <th>Cholestrl_(mg)</th>\n",
       "      <th>GmWt_1</th>\n",
       "      <th>GmWt_Desc1</th>\n",
       "      <th>GmWt_2</th>\n",
       "      <th>GmWt_Desc2</th>\n",
       "      <th>Refuse_Pct</th>\n",
       "    </tr>\n",
       "  </thead>\n",
       "  <tbody>\n",
       "    <tr>\n",
       "      <th>0</th>\n",
       "      <td>0</td>\n",
       "      <td>1001.0</td>\n",
       "      <td>BUTTER,WITH SALT</td>\n",
       "      <td>NaN</td>\n",
       "      <td>NaN</td>\n",
       "      <td>NaN</td>\n",
       "      <td>NaN</td>\n",
       "      <td>NaN</td>\n",
       "      <td>NaN</td>\n",
       "      <td>NaN</td>\n",
       "      <td>...</td>\n",
       "      <td>NaN</td>\n",
       "      <td>NaN</td>\n",
       "      <td>NaN</td>\n",
       "      <td>NaN</td>\n",
       "      <td>215.0</td>\n",
       "      <td>5.00</td>\n",
       "      <td>1 pat,  (1\" sq, 1/3\" high)</td>\n",
       "      <td>14.2</td>\n",
       "      <td>1 tbsp</td>\n",
       "      <td>0.0</td>\n",
       "    </tr>\n",
       "    <tr>\n",
       "      <th>1</th>\n",
       "      <td>1</td>\n",
       "      <td>1002.0</td>\n",
       "      <td>BUTTER,WHIPPED,W/ SALT</td>\n",
       "      <td>NaN</td>\n",
       "      <td>NaN</td>\n",
       "      <td>NaN</td>\n",
       "      <td>NaN</td>\n",
       "      <td>NaN</td>\n",
       "      <td>NaN</td>\n",
       "      <td>NaN</td>\n",
       "      <td>...</td>\n",
       "      <td>4.6</td>\n",
       "      <td>45.390</td>\n",
       "      <td>19.874</td>\n",
       "      <td>3.331</td>\n",
       "      <td>225.0</td>\n",
       "      <td>3.80</td>\n",
       "      <td>1 pat,  (1\" sq, 1/3\" high)</td>\n",
       "      <td>9.4</td>\n",
       "      <td>1 tbsp</td>\n",
       "      <td>0.0</td>\n",
       "    </tr>\n",
       "    <tr>\n",
       "      <th>2</th>\n",
       "      <td>2</td>\n",
       "      <td>1003.0</td>\n",
       "      <td>BUTTER OIL,ANHYDROUS</td>\n",
       "      <td>NaN</td>\n",
       "      <td>NaN</td>\n",
       "      <td>NaN</td>\n",
       "      <td>NaN</td>\n",
       "      <td>NaN</td>\n",
       "      <td>NaN</td>\n",
       "      <td>NaN</td>\n",
       "      <td>...</td>\n",
       "      <td>NaN</td>\n",
       "      <td>NaN</td>\n",
       "      <td>NaN</td>\n",
       "      <td>NaN</td>\n",
       "      <td>NaN</td>\n",
       "      <td>NaN</td>\n",
       "      <td>NaN</td>\n",
       "      <td>NaN</td>\n",
       "      <td>NaN</td>\n",
       "      <td>NaN</td>\n",
       "    </tr>\n",
       "    <tr>\n",
       "      <th>3</th>\n",
       "      <td>3</td>\n",
       "      <td>1004.0</td>\n",
       "      <td>CHEESE,BLUE</td>\n",
       "      <td>NaN</td>\n",
       "      <td>NaN</td>\n",
       "      <td>NaN</td>\n",
       "      <td>NaN</td>\n",
       "      <td>NaN</td>\n",
       "      <td>NaN</td>\n",
       "      <td>NaN</td>\n",
       "      <td>...</td>\n",
       "      <td>2.4</td>\n",
       "      <td>0.068</td>\n",
       "      <td>9.100</td>\n",
       "      <td>0.800</td>\n",
       "      <td>75.0</td>\n",
       "      <td>28.35</td>\n",
       "      <td>1 oz</td>\n",
       "      <td>17.0</td>\n",
       "      <td>1 cubic inch</td>\n",
       "      <td>0.0</td>\n",
       "    </tr>\n",
       "    <tr>\n",
       "      <th>4</th>\n",
       "      <td>4</td>\n",
       "      <td>1005.0</td>\n",
       "      <td>CHEESE,BRICK</td>\n",
       "      <td>41.11</td>\n",
       "      <td>371.0</td>\n",
       "      <td>23.24</td>\n",
       "      <td>29.68</td>\n",
       "      <td>3.18</td>\n",
       "      <td>2.79</td>\n",
       "      <td>0.0</td>\n",
       "      <td>...</td>\n",
       "      <td>2.5</td>\n",
       "      <td>4.610</td>\n",
       "      <td>0.867</td>\n",
       "      <td>1.746</td>\n",
       "      <td>94.0</td>\n",
       "      <td>132.00</td>\n",
       "      <td>1 cup, diced</td>\n",
       "      <td>113.0</td>\n",
       "      <td>1 cup, shredded</td>\n",
       "      <td>0.0</td>\n",
       "    </tr>\n",
       "    <tr>\n",
       "      <th>...</th>\n",
       "      <td>...</td>\n",
       "      <td>...</td>\n",
       "      <td>...</td>\n",
       "      <td>...</td>\n",
       "      <td>...</td>\n",
       "      <td>...</td>\n",
       "      <td>...</td>\n",
       "      <td>...</td>\n",
       "      <td>...</td>\n",
       "      <td>...</td>\n",
       "      <td>...</td>\n",
       "      <td>...</td>\n",
       "      <td>...</td>\n",
       "      <td>...</td>\n",
       "      <td>...</td>\n",
       "      <td>...</td>\n",
       "      <td>...</td>\n",
       "      <td>...</td>\n",
       "      <td>...</td>\n",
       "      <td>...</td>\n",
       "      <td>...</td>\n",
       "    </tr>\n",
       "    <tr>\n",
       "      <th>8785</th>\n",
       "      <td>8785</td>\n",
       "      <td>83110.0</td>\n",
       "      <td>MACKEREL,SALTED</td>\n",
       "      <td>43.00</td>\n",
       "      <td>305.0</td>\n",
       "      <td>18.50</td>\n",
       "      <td>25.10</td>\n",
       "      <td>13.40</td>\n",
       "      <td>0.00</td>\n",
       "      <td>0.0</td>\n",
       "      <td>...</td>\n",
       "      <td>7.8</td>\n",
       "      <td>7.148</td>\n",
       "      <td>8.320</td>\n",
       "      <td>6.210</td>\n",
       "      <td>95.0</td>\n",
       "      <td>80.00</td>\n",
       "      <td>1 piece,  (5-1/2\" x 1-1/2\" x 1/2\")</td>\n",
       "      <td>17.0</td>\n",
       "      <td>1 cubic inch, boneless</td>\n",
       "      <td>0.0</td>\n",
       "    </tr>\n",
       "    <tr>\n",
       "      <th>8786</th>\n",
       "      <td>8786</td>\n",
       "      <td>90240.0</td>\n",
       "      <td>SCALLOP,(BAY&amp;SEA),CKD,STMD</td>\n",
       "      <td>70.25</td>\n",
       "      <td>111.0</td>\n",
       "      <td>20.54</td>\n",
       "      <td>0.84</td>\n",
       "      <td>2.97</td>\n",
       "      <td>5.41</td>\n",
       "      <td>0.0</td>\n",
       "      <td>...</td>\n",
       "      <td>0.0</td>\n",
       "      <td>0.218</td>\n",
       "      <td>0.082</td>\n",
       "      <td>0.222</td>\n",
       "      <td>41.0</td>\n",
       "      <td>85.00</td>\n",
       "      <td>3 oz</td>\n",
       "      <td>NaN</td>\n",
       "      <td>NaN</td>\n",
       "      <td>0.0</td>\n",
       "    </tr>\n",
       "    <tr>\n",
       "      <th>8787</th>\n",
       "      <td>8787</td>\n",
       "      <td>90480.0</td>\n",
       "      <td>SYRUP,CANE</td>\n",
       "      <td>26.00</td>\n",
       "      <td>269.0</td>\n",
       "      <td>0.00</td>\n",
       "      <td>0.00</td>\n",
       "      <td>0.86</td>\n",
       "      <td>73.14</td>\n",
       "      <td>0.0</td>\n",
       "      <td>...</td>\n",
       "      <td>0.0</td>\n",
       "      <td>0.000</td>\n",
       "      <td>0.000</td>\n",
       "      <td>0.000</td>\n",
       "      <td>0.0</td>\n",
       "      <td>21.00</td>\n",
       "      <td>1 serving</td>\n",
       "      <td>NaN</td>\n",
       "      <td>NaN</td>\n",
       "      <td>0.0</td>\n",
       "    </tr>\n",
       "    <tr>\n",
       "      <th>8788</th>\n",
       "      <td>8788</td>\n",
       "      <td>90560.0</td>\n",
       "      <td>SNAIL,RAW</td>\n",
       "      <td>79.20</td>\n",
       "      <td>90.0</td>\n",
       "      <td>16.10</td>\n",
       "      <td>1.40</td>\n",
       "      <td>1.30</td>\n",
       "      <td>2.00</td>\n",
       "      <td>0.0</td>\n",
       "      <td>...</td>\n",
       "      <td>0.1</td>\n",
       "      <td>0.361</td>\n",
       "      <td>0.259</td>\n",
       "      <td>0.252</td>\n",
       "      <td>50.0</td>\n",
       "      <td>85.00</td>\n",
       "      <td>3 oz</td>\n",
       "      <td>NaN</td>\n",
       "      <td>NaN</td>\n",
       "      <td>0.0</td>\n",
       "    </tr>\n",
       "    <tr>\n",
       "      <th>8789</th>\n",
       "      <td>8789</td>\n",
       "      <td>93600.0</td>\n",
       "      <td>TURTLE,GREEN,RAW</td>\n",
       "      <td>78.50</td>\n",
       "      <td>89.0</td>\n",
       "      <td>19.80</td>\n",
       "      <td>0.50</td>\n",
       "      <td>1.20</td>\n",
       "      <td>0.00</td>\n",
       "      <td>0.0</td>\n",
       "      <td>...</td>\n",
       "      <td>0.1</td>\n",
       "      <td>0.127</td>\n",
       "      <td>0.088</td>\n",
       "      <td>0.170</td>\n",
       "      <td>50.0</td>\n",
       "      <td>85.00</td>\n",
       "      <td>3 oz</td>\n",
       "      <td>NaN</td>\n",
       "      <td>NaN</td>\n",
       "      <td>0.0</td>\n",
       "    </tr>\n",
       "  </tbody>\n",
       "</table>\n",
       "<p>8790 rows × 54 columns</p>\n",
       "</div>"
      ],
      "text/plain": [
       "      index   NDB_No                   Shrt_Desc  Water_(g)  Energ_Kcal  \\\n",
       "0         0   1001.0            BUTTER,WITH SALT        NaN         NaN   \n",
       "1         1   1002.0      BUTTER,WHIPPED,W/ SALT        NaN         NaN   \n",
       "2         2   1003.0        BUTTER OIL,ANHYDROUS        NaN         NaN   \n",
       "3         3   1004.0                 CHEESE,BLUE        NaN         NaN   \n",
       "4         4   1005.0                CHEESE,BRICK      41.11       371.0   \n",
       "...     ...      ...                         ...        ...         ...   \n",
       "8785   8785  83110.0             MACKEREL,SALTED      43.00       305.0   \n",
       "8786   8786  90240.0  SCALLOP,(BAY&SEA),CKD,STMD      70.25       111.0   \n",
       "8787   8787  90480.0                  SYRUP,CANE      26.00       269.0   \n",
       "8788   8788  90560.0                   SNAIL,RAW      79.20        90.0   \n",
       "8789   8789  93600.0            TURTLE,GREEN,RAW      78.50        89.0   \n",
       "\n",
       "      Protein_(g)  Lipid_Tot_(g)  Ash_(g)  Carbohydrt_(g)  Fiber_TD_(g)  ...  \\\n",
       "0             NaN            NaN      NaN             NaN           NaN  ...   \n",
       "1             NaN            NaN      NaN             NaN           NaN  ...   \n",
       "2             NaN            NaN      NaN             NaN           NaN  ...   \n",
       "3             NaN            NaN      NaN             NaN           NaN  ...   \n",
       "4           23.24          29.68     3.18            2.79           0.0  ...   \n",
       "...           ...            ...      ...             ...           ...  ...   \n",
       "8785        18.50          25.10    13.40            0.00           0.0  ...   \n",
       "8786        20.54           0.84     2.97            5.41           0.0  ...   \n",
       "8787         0.00           0.00     0.86           73.14           0.0  ...   \n",
       "8788        16.10           1.40     1.30            2.00           0.0  ...   \n",
       "8789        19.80           0.50     1.20            0.00           0.0  ...   \n",
       "\n",
       "      Vit_K_(µg)  FA_Sat_(g)  FA_Mono_(g)  FA_Poly_(g)  Cholestrl_(mg)  \\\n",
       "0            NaN         NaN          NaN          NaN           215.0   \n",
       "1            4.6      45.390       19.874        3.331           225.0   \n",
       "2            NaN         NaN          NaN          NaN             NaN   \n",
       "3            2.4       0.068        9.100        0.800            75.0   \n",
       "4            2.5       4.610        0.867        1.746            94.0   \n",
       "...          ...         ...          ...          ...             ...   \n",
       "8785         7.8       7.148        8.320        6.210            95.0   \n",
       "8786         0.0       0.218        0.082        0.222            41.0   \n",
       "8787         0.0       0.000        0.000        0.000             0.0   \n",
       "8788         0.1       0.361        0.259        0.252            50.0   \n",
       "8789         0.1       0.127        0.088        0.170            50.0   \n",
       "\n",
       "      GmWt_1                          GmWt_Desc1  GmWt_2  \\\n",
       "0       5.00          1 pat,  (1\" sq, 1/3\" high)    14.2   \n",
       "1       3.80          1 pat,  (1\" sq, 1/3\" high)     9.4   \n",
       "2        NaN                                 NaN     NaN   \n",
       "3      28.35                                1 oz    17.0   \n",
       "4     132.00                        1 cup, diced   113.0   \n",
       "...      ...                                 ...     ...   \n",
       "8785   80.00  1 piece,  (5-1/2\" x 1-1/2\" x 1/2\")    17.0   \n",
       "8786   85.00                                3 oz     NaN   \n",
       "8787   21.00                           1 serving     NaN   \n",
       "8788   85.00                                3 oz     NaN   \n",
       "8789   85.00                                3 oz     NaN   \n",
       "\n",
       "                  GmWt_Desc2  Refuse_Pct  \n",
       "0                     1 tbsp         0.0  \n",
       "1                     1 tbsp         0.0  \n",
       "2                        NaN         NaN  \n",
       "3               1 cubic inch         0.0  \n",
       "4            1 cup, shredded         0.0  \n",
       "...                      ...         ...  \n",
       "8785  1 cubic inch, boneless         0.0  \n",
       "8786                     NaN         0.0  \n",
       "8787                     NaN         0.0  \n",
       "8788                     NaN         0.0  \n",
       "8789                     NaN         0.0  \n",
       "\n",
       "[8790 rows x 54 columns]"
      ]
     },
     "execution_count": 3,
     "metadata": {},
     "output_type": "execute_result"
    }
   ],
   "source": [
    "df"
   ]
  },
  {
   "cell_type": "code",
   "execution_count": 4,
   "metadata": {
    "id": "AiRSuXRGpM7l"
   },
   "outputs": [],
   "source": [
    "df.fillna(0, inplace=True)\n",
    "X = df.drop(['index', 'NDB_No', 'Shrt_Desc', 'GmWt_Desc1', 'GmWt_Desc2'], axis=1).values"
   ]
  },
  {
   "cell_type": "markdown",
   "metadata": {
    "id": "aR-TCR-lp4xy"
   },
   "source": [
    "we will preprocess the dataset and extract the clusters using an Autoencoder"
   ]
  },
  {
   "cell_type": "code",
   "execution_count": 5,
   "metadata": {},
   "outputs": [
    {
     "data": {
      "text/html": [
       "<div>\n",
       "<style scoped>\n",
       "    .dataframe tbody tr th:only-of-type {\n",
       "        vertical-align: middle;\n",
       "    }\n",
       "\n",
       "    .dataframe tbody tr th {\n",
       "        vertical-align: top;\n",
       "    }\n",
       "\n",
       "    .dataframe thead th {\n",
       "        text-align: right;\n",
       "    }\n",
       "</style>\n",
       "<table border=\"1\" class=\"dataframe\">\n",
       "  <thead>\n",
       "    <tr style=\"text-align: right;\">\n",
       "      <th></th>\n",
       "      <th>index</th>\n",
       "      <th>NDB_No</th>\n",
       "      <th>Shrt_Desc</th>\n",
       "      <th>Water_(g)</th>\n",
       "      <th>Energ_Kcal</th>\n",
       "      <th>Protein_(g)</th>\n",
       "      <th>Lipid_Tot_(g)</th>\n",
       "      <th>Ash_(g)</th>\n",
       "      <th>Carbohydrt_(g)</th>\n",
       "      <th>Fiber_TD_(g)</th>\n",
       "      <th>...</th>\n",
       "      <th>Vit_K_(µg)</th>\n",
       "      <th>FA_Sat_(g)</th>\n",
       "      <th>FA_Mono_(g)</th>\n",
       "      <th>FA_Poly_(g)</th>\n",
       "      <th>Cholestrl_(mg)</th>\n",
       "      <th>GmWt_1</th>\n",
       "      <th>GmWt_Desc1</th>\n",
       "      <th>GmWt_2</th>\n",
       "      <th>GmWt_Desc2</th>\n",
       "      <th>Refuse_Pct</th>\n",
       "    </tr>\n",
       "  </thead>\n",
       "  <tbody>\n",
       "    <tr>\n",
       "      <th>0</th>\n",
       "      <td>0</td>\n",
       "      <td>1001.0</td>\n",
       "      <td>BUTTER,WITH SALT</td>\n",
       "      <td>0.00</td>\n",
       "      <td>0.0</td>\n",
       "      <td>0.00</td>\n",
       "      <td>0.00</td>\n",
       "      <td>0.00</td>\n",
       "      <td>0.00</td>\n",
       "      <td>0.0</td>\n",
       "      <td>...</td>\n",
       "      <td>0.0</td>\n",
       "      <td>0.000</td>\n",
       "      <td>0.000</td>\n",
       "      <td>0.000</td>\n",
       "      <td>215.0</td>\n",
       "      <td>5.00</td>\n",
       "      <td>1 pat,  (1\" sq, 1/3\" high)</td>\n",
       "      <td>14.2</td>\n",
       "      <td>1 tbsp</td>\n",
       "      <td>0.0</td>\n",
       "    </tr>\n",
       "    <tr>\n",
       "      <th>1</th>\n",
       "      <td>1</td>\n",
       "      <td>1002.0</td>\n",
       "      <td>BUTTER,WHIPPED,W/ SALT</td>\n",
       "      <td>0.00</td>\n",
       "      <td>0.0</td>\n",
       "      <td>0.00</td>\n",
       "      <td>0.00</td>\n",
       "      <td>0.00</td>\n",
       "      <td>0.00</td>\n",
       "      <td>0.0</td>\n",
       "      <td>...</td>\n",
       "      <td>4.6</td>\n",
       "      <td>45.390</td>\n",
       "      <td>19.874</td>\n",
       "      <td>3.331</td>\n",
       "      <td>225.0</td>\n",
       "      <td>3.80</td>\n",
       "      <td>1 pat,  (1\" sq, 1/3\" high)</td>\n",
       "      <td>9.4</td>\n",
       "      <td>1 tbsp</td>\n",
       "      <td>0.0</td>\n",
       "    </tr>\n",
       "    <tr>\n",
       "      <th>2</th>\n",
       "      <td>2</td>\n",
       "      <td>1003.0</td>\n",
       "      <td>BUTTER OIL,ANHYDROUS</td>\n",
       "      <td>0.00</td>\n",
       "      <td>0.0</td>\n",
       "      <td>0.00</td>\n",
       "      <td>0.00</td>\n",
       "      <td>0.00</td>\n",
       "      <td>0.00</td>\n",
       "      <td>0.0</td>\n",
       "      <td>...</td>\n",
       "      <td>0.0</td>\n",
       "      <td>0.000</td>\n",
       "      <td>0.000</td>\n",
       "      <td>0.000</td>\n",
       "      <td>0.0</td>\n",
       "      <td>0.00</td>\n",
       "      <td>0</td>\n",
       "      <td>0.0</td>\n",
       "      <td>0</td>\n",
       "      <td>0.0</td>\n",
       "    </tr>\n",
       "    <tr>\n",
       "      <th>3</th>\n",
       "      <td>3</td>\n",
       "      <td>1004.0</td>\n",
       "      <td>CHEESE,BLUE</td>\n",
       "      <td>0.00</td>\n",
       "      <td>0.0</td>\n",
       "      <td>0.00</td>\n",
       "      <td>0.00</td>\n",
       "      <td>0.00</td>\n",
       "      <td>0.00</td>\n",
       "      <td>0.0</td>\n",
       "      <td>...</td>\n",
       "      <td>2.4</td>\n",
       "      <td>0.068</td>\n",
       "      <td>9.100</td>\n",
       "      <td>0.800</td>\n",
       "      <td>75.0</td>\n",
       "      <td>28.35</td>\n",
       "      <td>1 oz</td>\n",
       "      <td>17.0</td>\n",
       "      <td>1 cubic inch</td>\n",
       "      <td>0.0</td>\n",
       "    </tr>\n",
       "    <tr>\n",
       "      <th>4</th>\n",
       "      <td>4</td>\n",
       "      <td>1005.0</td>\n",
       "      <td>CHEESE,BRICK</td>\n",
       "      <td>41.11</td>\n",
       "      <td>371.0</td>\n",
       "      <td>23.24</td>\n",
       "      <td>29.68</td>\n",
       "      <td>3.18</td>\n",
       "      <td>2.79</td>\n",
       "      <td>0.0</td>\n",
       "      <td>...</td>\n",
       "      <td>2.5</td>\n",
       "      <td>4.610</td>\n",
       "      <td>0.867</td>\n",
       "      <td>1.746</td>\n",
       "      <td>94.0</td>\n",
       "      <td>132.00</td>\n",
       "      <td>1 cup, diced</td>\n",
       "      <td>113.0</td>\n",
       "      <td>1 cup, shredded</td>\n",
       "      <td>0.0</td>\n",
       "    </tr>\n",
       "    <tr>\n",
       "      <th>...</th>\n",
       "      <td>...</td>\n",
       "      <td>...</td>\n",
       "      <td>...</td>\n",
       "      <td>...</td>\n",
       "      <td>...</td>\n",
       "      <td>...</td>\n",
       "      <td>...</td>\n",
       "      <td>...</td>\n",
       "      <td>...</td>\n",
       "      <td>...</td>\n",
       "      <td>...</td>\n",
       "      <td>...</td>\n",
       "      <td>...</td>\n",
       "      <td>...</td>\n",
       "      <td>...</td>\n",
       "      <td>...</td>\n",
       "      <td>...</td>\n",
       "      <td>...</td>\n",
       "      <td>...</td>\n",
       "      <td>...</td>\n",
       "      <td>...</td>\n",
       "    </tr>\n",
       "    <tr>\n",
       "      <th>8785</th>\n",
       "      <td>8785</td>\n",
       "      <td>83110.0</td>\n",
       "      <td>MACKEREL,SALTED</td>\n",
       "      <td>43.00</td>\n",
       "      <td>305.0</td>\n",
       "      <td>18.50</td>\n",
       "      <td>25.10</td>\n",
       "      <td>13.40</td>\n",
       "      <td>0.00</td>\n",
       "      <td>0.0</td>\n",
       "      <td>...</td>\n",
       "      <td>7.8</td>\n",
       "      <td>7.148</td>\n",
       "      <td>8.320</td>\n",
       "      <td>6.210</td>\n",
       "      <td>95.0</td>\n",
       "      <td>80.00</td>\n",
       "      <td>1 piece,  (5-1/2\" x 1-1/2\" x 1/2\")</td>\n",
       "      <td>17.0</td>\n",
       "      <td>1 cubic inch, boneless</td>\n",
       "      <td>0.0</td>\n",
       "    </tr>\n",
       "    <tr>\n",
       "      <th>8786</th>\n",
       "      <td>8786</td>\n",
       "      <td>90240.0</td>\n",
       "      <td>SCALLOP,(BAY&amp;SEA),CKD,STMD</td>\n",
       "      <td>70.25</td>\n",
       "      <td>111.0</td>\n",
       "      <td>20.54</td>\n",
       "      <td>0.84</td>\n",
       "      <td>2.97</td>\n",
       "      <td>5.41</td>\n",
       "      <td>0.0</td>\n",
       "      <td>...</td>\n",
       "      <td>0.0</td>\n",
       "      <td>0.218</td>\n",
       "      <td>0.082</td>\n",
       "      <td>0.222</td>\n",
       "      <td>41.0</td>\n",
       "      <td>85.00</td>\n",
       "      <td>3 oz</td>\n",
       "      <td>0.0</td>\n",
       "      <td>0</td>\n",
       "      <td>0.0</td>\n",
       "    </tr>\n",
       "    <tr>\n",
       "      <th>8787</th>\n",
       "      <td>8787</td>\n",
       "      <td>90480.0</td>\n",
       "      <td>SYRUP,CANE</td>\n",
       "      <td>26.00</td>\n",
       "      <td>269.0</td>\n",
       "      <td>0.00</td>\n",
       "      <td>0.00</td>\n",
       "      <td>0.86</td>\n",
       "      <td>73.14</td>\n",
       "      <td>0.0</td>\n",
       "      <td>...</td>\n",
       "      <td>0.0</td>\n",
       "      <td>0.000</td>\n",
       "      <td>0.000</td>\n",
       "      <td>0.000</td>\n",
       "      <td>0.0</td>\n",
       "      <td>21.00</td>\n",
       "      <td>1 serving</td>\n",
       "      <td>0.0</td>\n",
       "      <td>0</td>\n",
       "      <td>0.0</td>\n",
       "    </tr>\n",
       "    <tr>\n",
       "      <th>8788</th>\n",
       "      <td>8788</td>\n",
       "      <td>90560.0</td>\n",
       "      <td>SNAIL,RAW</td>\n",
       "      <td>79.20</td>\n",
       "      <td>90.0</td>\n",
       "      <td>16.10</td>\n",
       "      <td>1.40</td>\n",
       "      <td>1.30</td>\n",
       "      <td>2.00</td>\n",
       "      <td>0.0</td>\n",
       "      <td>...</td>\n",
       "      <td>0.1</td>\n",
       "      <td>0.361</td>\n",
       "      <td>0.259</td>\n",
       "      <td>0.252</td>\n",
       "      <td>50.0</td>\n",
       "      <td>85.00</td>\n",
       "      <td>3 oz</td>\n",
       "      <td>0.0</td>\n",
       "      <td>0</td>\n",
       "      <td>0.0</td>\n",
       "    </tr>\n",
       "    <tr>\n",
       "      <th>8789</th>\n",
       "      <td>8789</td>\n",
       "      <td>93600.0</td>\n",
       "      <td>TURTLE,GREEN,RAW</td>\n",
       "      <td>78.50</td>\n",
       "      <td>89.0</td>\n",
       "      <td>19.80</td>\n",
       "      <td>0.50</td>\n",
       "      <td>1.20</td>\n",
       "      <td>0.00</td>\n",
       "      <td>0.0</td>\n",
       "      <td>...</td>\n",
       "      <td>0.1</td>\n",
       "      <td>0.127</td>\n",
       "      <td>0.088</td>\n",
       "      <td>0.170</td>\n",
       "      <td>50.0</td>\n",
       "      <td>85.00</td>\n",
       "      <td>3 oz</td>\n",
       "      <td>0.0</td>\n",
       "      <td>0</td>\n",
       "      <td>0.0</td>\n",
       "    </tr>\n",
       "  </tbody>\n",
       "</table>\n",
       "<p>8790 rows × 54 columns</p>\n",
       "</div>"
      ],
      "text/plain": [
       "      index   NDB_No                   Shrt_Desc  Water_(g)  Energ_Kcal  \\\n",
       "0         0   1001.0            BUTTER,WITH SALT       0.00         0.0   \n",
       "1         1   1002.0      BUTTER,WHIPPED,W/ SALT       0.00         0.0   \n",
       "2         2   1003.0        BUTTER OIL,ANHYDROUS       0.00         0.0   \n",
       "3         3   1004.0                 CHEESE,BLUE       0.00         0.0   \n",
       "4         4   1005.0                CHEESE,BRICK      41.11       371.0   \n",
       "...     ...      ...                         ...        ...         ...   \n",
       "8785   8785  83110.0             MACKEREL,SALTED      43.00       305.0   \n",
       "8786   8786  90240.0  SCALLOP,(BAY&SEA),CKD,STMD      70.25       111.0   \n",
       "8787   8787  90480.0                  SYRUP,CANE      26.00       269.0   \n",
       "8788   8788  90560.0                   SNAIL,RAW      79.20        90.0   \n",
       "8789   8789  93600.0            TURTLE,GREEN,RAW      78.50        89.0   \n",
       "\n",
       "      Protein_(g)  Lipid_Tot_(g)  Ash_(g)  Carbohydrt_(g)  Fiber_TD_(g)  ...  \\\n",
       "0            0.00           0.00     0.00            0.00           0.0  ...   \n",
       "1            0.00           0.00     0.00            0.00           0.0  ...   \n",
       "2            0.00           0.00     0.00            0.00           0.0  ...   \n",
       "3            0.00           0.00     0.00            0.00           0.0  ...   \n",
       "4           23.24          29.68     3.18            2.79           0.0  ...   \n",
       "...           ...            ...      ...             ...           ...  ...   \n",
       "8785        18.50          25.10    13.40            0.00           0.0  ...   \n",
       "8786        20.54           0.84     2.97            5.41           0.0  ...   \n",
       "8787         0.00           0.00     0.86           73.14           0.0  ...   \n",
       "8788        16.10           1.40     1.30            2.00           0.0  ...   \n",
       "8789        19.80           0.50     1.20            0.00           0.0  ...   \n",
       "\n",
       "      Vit_K_(µg)  FA_Sat_(g)  FA_Mono_(g)  FA_Poly_(g)  Cholestrl_(mg)  \\\n",
       "0            0.0       0.000        0.000        0.000           215.0   \n",
       "1            4.6      45.390       19.874        3.331           225.0   \n",
       "2            0.0       0.000        0.000        0.000             0.0   \n",
       "3            2.4       0.068        9.100        0.800            75.0   \n",
       "4            2.5       4.610        0.867        1.746            94.0   \n",
       "...          ...         ...          ...          ...             ...   \n",
       "8785         7.8       7.148        8.320        6.210            95.0   \n",
       "8786         0.0       0.218        0.082        0.222            41.0   \n",
       "8787         0.0       0.000        0.000        0.000             0.0   \n",
       "8788         0.1       0.361        0.259        0.252            50.0   \n",
       "8789         0.1       0.127        0.088        0.170            50.0   \n",
       "\n",
       "      GmWt_1                          GmWt_Desc1  GmWt_2  \\\n",
       "0       5.00          1 pat,  (1\" sq, 1/3\" high)    14.2   \n",
       "1       3.80          1 pat,  (1\" sq, 1/3\" high)     9.4   \n",
       "2       0.00                                   0     0.0   \n",
       "3      28.35                                1 oz    17.0   \n",
       "4     132.00                        1 cup, diced   113.0   \n",
       "...      ...                                 ...     ...   \n",
       "8785   80.00  1 piece,  (5-1/2\" x 1-1/2\" x 1/2\")    17.0   \n",
       "8786   85.00                                3 oz     0.0   \n",
       "8787   21.00                           1 serving     0.0   \n",
       "8788   85.00                                3 oz     0.0   \n",
       "8789   85.00                                3 oz     0.0   \n",
       "\n",
       "                  GmWt_Desc2  Refuse_Pct  \n",
       "0                     1 tbsp         0.0  \n",
       "1                     1 tbsp         0.0  \n",
       "2                          0         0.0  \n",
       "3               1 cubic inch         0.0  \n",
       "4            1 cup, shredded         0.0  \n",
       "...                      ...         ...  \n",
       "8785  1 cubic inch, boneless         0.0  \n",
       "8786                       0         0.0  \n",
       "8787                       0         0.0  \n",
       "8788                       0         0.0  \n",
       "8789                       0         0.0  \n",
       "\n",
       "[8790 rows x 54 columns]"
      ]
     },
     "execution_count": 5,
     "metadata": {},
     "output_type": "execute_result"
    }
   ],
   "source": [
    "df"
   ]
  },
  {
   "cell_type": "code",
   "execution_count": 6,
   "metadata": {
    "colab": {
     "base_uri": "https://localhost:8080/"
    },
    "id": "8WjCVgLmpqC2",
    "outputId": "c15c73da-40a1-4b30-927e-e585eded1bc3"
   },
   "outputs": [
    {
     "name": "stdout",
     "output_type": "stream",
     "text": [
      "Epoch 1/50\n",
      "\u001b[1m440/440\u001b[0m \u001b[32m━━━━━━━━━━━━━━━━━━━━\u001b[0m\u001b[37m\u001b[0m \u001b[1m5s\u001b[0m 5ms/step - accuracy: 0.1979 - loss: 0.0141 - val_accuracy: 0.6342 - val_loss: 0.0071\n",
      "Epoch 2/50\n",
      "\u001b[1m440/440\u001b[0m \u001b[32m━━━━━━━━━━━━━━━━━━━━\u001b[0m\u001b[37m\u001b[0m \u001b[1m3s\u001b[0m 4ms/step - accuracy: 0.7151 - loss: 0.0073 - val_accuracy: 0.6638 - val_loss: 0.0051\n",
      "Epoch 3/50\n",
      "\u001b[1m440/440\u001b[0m \u001b[32m━━━━━━━━━━━━━━━━━━━━\u001b[0m\u001b[37m\u001b[0m \u001b[1m2s\u001b[0m 4ms/step - accuracy: 0.7586 - loss: 0.0054 - val_accuracy: 0.6678 - val_loss: 0.0040\n",
      "Epoch 4/50\n",
      "\u001b[1m440/440\u001b[0m \u001b[32m━━━━━━━━━━━━━━━━━━━━\u001b[0m\u001b[37m\u001b[0m \u001b[1m3s\u001b[0m 5ms/step - accuracy: 0.7840 - loss: 0.0047 - val_accuracy: 0.8925 - val_loss: 0.0034\n",
      "Epoch 5/50\n",
      "\u001b[1m440/440\u001b[0m \u001b[32m━━━━━━━━━━━━━━━━━━━━\u001b[0m\u001b[37m\u001b[0m \u001b[1m3s\u001b[0m 4ms/step - accuracy: 0.9206 - loss: 0.0040 - val_accuracy: 0.9346 - val_loss: 0.0030\n",
      "Epoch 6/50\n",
      "\u001b[1m440/440\u001b[0m \u001b[32m━━━━━━━━━━━━━━━━━━━━\u001b[0m\u001b[37m\u001b[0m \u001b[1m3s\u001b[0m 4ms/step - accuracy: 0.9227 - loss: 0.0038 - val_accuracy: 0.9249 - val_loss: 0.0028\n",
      "Epoch 7/50\n",
      "\u001b[1m440/440\u001b[0m \u001b[32m━━━━━━━━━━━━━━━━━━━━\u001b[0m\u001b[37m\u001b[0m \u001b[1m3s\u001b[0m 5ms/step - accuracy: 0.9230 - loss: 0.0036 - val_accuracy: 0.9198 - val_loss: 0.0028\n",
      "Epoch 8/50\n",
      "\u001b[1m440/440\u001b[0m \u001b[32m━━━━━━━━━━━━━━━━━━━━\u001b[0m\u001b[37m\u001b[0m \u001b[1m3s\u001b[0m 5ms/step - accuracy: 0.9264 - loss: 0.0036 - val_accuracy: 0.9209 - val_loss: 0.0027\n",
      "Epoch 9/50\n",
      "\u001b[1m440/440\u001b[0m \u001b[32m━━━━━━━━━━━━━━━━━━━━\u001b[0m\u001b[37m\u001b[0m \u001b[1m3s\u001b[0m 4ms/step - accuracy: 0.9307 - loss: 0.0033 - val_accuracy: 0.9198 - val_loss: 0.0027\n",
      "Epoch 10/50\n",
      "\u001b[1m440/440\u001b[0m \u001b[32m━━━━━━━━━━━━━━━━━━━━\u001b[0m\u001b[37m\u001b[0m \u001b[1m3s\u001b[0m 5ms/step - accuracy: 0.9323 - loss: 0.0033 - val_accuracy: 0.9243 - val_loss: 0.0026\n",
      "Epoch 11/50\n",
      "\u001b[1m440/440\u001b[0m \u001b[32m━━━━━━━━━━━━━━━━━━━━\u001b[0m\u001b[37m\u001b[0m \u001b[1m2s\u001b[0m 5ms/step - accuracy: 0.9328 - loss: 0.0032 - val_accuracy: 0.9238 - val_loss: 0.0026\n",
      "Epoch 12/50\n",
      "\u001b[1m440/440\u001b[0m \u001b[32m━━━━━━━━━━━━━━━━━━━━\u001b[0m\u001b[37m\u001b[0m \u001b[1m3s\u001b[0m 5ms/step - accuracy: 0.9306 - loss: 0.0032 - val_accuracy: 0.9209 - val_loss: 0.0026\n",
      "Epoch 13/50\n",
      "\u001b[1m440/440\u001b[0m \u001b[32m━━━━━━━━━━━━━━━━━━━━\u001b[0m\u001b[37m\u001b[0m \u001b[1m2s\u001b[0m 4ms/step - accuracy: 0.9268 - loss: 0.0033 - val_accuracy: 0.9192 - val_loss: 0.0026\n",
      "Epoch 14/50\n",
      "\u001b[1m440/440\u001b[0m \u001b[32m━━━━━━━━━━━━━━━━━━━━\u001b[0m\u001b[37m\u001b[0m \u001b[1m3s\u001b[0m 5ms/step - accuracy: 0.9301 - loss: 0.0031 - val_accuracy: 0.9243 - val_loss: 0.0025\n",
      "Epoch 15/50\n",
      "\u001b[1m440/440\u001b[0m \u001b[32m━━━━━━━━━━━━━━━━━━━━\u001b[0m\u001b[37m\u001b[0m \u001b[1m3s\u001b[0m 7ms/step - accuracy: 0.9228 - loss: 0.0032 - val_accuracy: 0.9249 - val_loss: 0.0025\n",
      "Epoch 16/50\n",
      "\u001b[1m440/440\u001b[0m \u001b[32m━━━━━━━━━━━━━━━━━━━━\u001b[0m\u001b[37m\u001b[0m \u001b[1m3s\u001b[0m 6ms/step - accuracy: 0.9246 - loss: 0.0031 - val_accuracy: 0.9226 - val_loss: 0.0025\n",
      "Epoch 17/50\n",
      "\u001b[1m440/440\u001b[0m \u001b[32m━━━━━━━━━━━━━━━━━━━━\u001b[0m\u001b[37m\u001b[0m \u001b[1m3s\u001b[0m 5ms/step - accuracy: 0.9232 - loss: 0.0031 - val_accuracy: 0.9226 - val_loss: 0.0025\n",
      "Epoch 18/50\n",
      "\u001b[1m440/440\u001b[0m \u001b[32m━━━━━━━━━━━━━━━━━━━━\u001b[0m\u001b[37m\u001b[0m \u001b[1m4s\u001b[0m 10ms/step - accuracy: 0.9161 - loss: 0.0031 - val_accuracy: 0.9187 - val_loss: 0.0025\n",
      "Epoch 19/50\n",
      "\u001b[1m440/440\u001b[0m \u001b[32m━━━━━━━━━━━━━━━━━━━━\u001b[0m\u001b[37m\u001b[0m \u001b[1m3s\u001b[0m 7ms/step - accuracy: 0.9206 - loss: 0.0030 - val_accuracy: 0.9175 - val_loss: 0.0025\n",
      "Epoch 20/50\n",
      "\u001b[1m440/440\u001b[0m \u001b[32m━━━━━━━━━━━━━━━━━━━━\u001b[0m\u001b[37m\u001b[0m \u001b[1m3s\u001b[0m 5ms/step - accuracy: 0.9142 - loss: 0.0031 - val_accuracy: 0.9209 - val_loss: 0.0025\n",
      "Epoch 21/50\n",
      "\u001b[1m440/440\u001b[0m \u001b[32m━━━━━━━━━━━━━━━━━━━━\u001b[0m\u001b[37m\u001b[0m \u001b[1m3s\u001b[0m 5ms/step - accuracy: 0.9178 - loss: 0.0030 - val_accuracy: 0.9249 - val_loss: 0.0025\n",
      "Epoch 22/50\n",
      "\u001b[1m440/440\u001b[0m \u001b[32m━━━━━━━━━━━━━━━━━━━━\u001b[0m\u001b[37m\u001b[0m \u001b[1m5s\u001b[0m 5ms/step - accuracy: 0.9194 - loss: 0.0031 - val_accuracy: 0.9209 - val_loss: 0.0025\n",
      "Epoch 23/50\n",
      "\u001b[1m440/440\u001b[0m \u001b[32m━━━━━━━━━━━━━━━━━━━━\u001b[0m\u001b[37m\u001b[0m \u001b[1m3s\u001b[0m 7ms/step - accuracy: 0.9191 - loss: 0.0031 - val_accuracy: 0.9226 - val_loss: 0.0025\n",
      "Epoch 24/50\n",
      "\u001b[1m440/440\u001b[0m \u001b[32m━━━━━━━━━━━━━━━━━━━━\u001b[0m\u001b[37m\u001b[0m \u001b[1m5s\u001b[0m 7ms/step - accuracy: 0.9165 - loss: 0.0031 - val_accuracy: 0.9238 - val_loss: 0.0025\n",
      "Epoch 25/50\n",
      "\u001b[1m440/440\u001b[0m \u001b[32m━━━━━━━━━━━━━━━━━━━━\u001b[0m\u001b[37m\u001b[0m \u001b[1m3s\u001b[0m 5ms/step - accuracy: 0.9209 - loss: 0.0030 - val_accuracy: 0.9170 - val_loss: 0.0025\n",
      "Epoch 26/50\n",
      "\u001b[1m440/440\u001b[0m \u001b[32m━━━━━━━━━━━━━━━━━━━━\u001b[0m\u001b[37m\u001b[0m \u001b[1m4s\u001b[0m 9ms/step - accuracy: 0.9223 - loss: 0.0031 - val_accuracy: 0.9249 - val_loss: 0.0025\n",
      "Epoch 27/50\n",
      "\u001b[1m440/440\u001b[0m \u001b[32m━━━━━━━━━━━━━━━━━━━━\u001b[0m\u001b[37m\u001b[0m \u001b[1m5s\u001b[0m 5ms/step - accuracy: 0.9211 - loss: 0.0031 - val_accuracy: 0.9226 - val_loss: 0.0024\n",
      "Epoch 28/50\n",
      "\u001b[1m440/440\u001b[0m \u001b[32m━━━━━━━━━━━━━━━━━━━━\u001b[0m\u001b[37m\u001b[0m \u001b[1m4s\u001b[0m 8ms/step - accuracy: 0.9209 - loss: 0.0029 - val_accuracy: 0.9198 - val_loss: 0.0024\n",
      "Epoch 29/50\n",
      "\u001b[1m440/440\u001b[0m \u001b[32m━━━━━━━━━━━━━━━━━━━━\u001b[0m\u001b[37m\u001b[0m \u001b[1m3s\u001b[0m 7ms/step - accuracy: 0.9222 - loss: 0.0031 - val_accuracy: 0.9272 - val_loss: 0.0024\n",
      "Epoch 30/50\n",
      "\u001b[1m440/440\u001b[0m \u001b[32m━━━━━━━━━━━━━━━━━━━━\u001b[0m\u001b[37m\u001b[0m \u001b[1m5s\u001b[0m 6ms/step - accuracy: 0.9243 - loss: 0.0031 - val_accuracy: 0.9266 - val_loss: 0.0024\n",
      "Epoch 31/50\n",
      "\u001b[1m440/440\u001b[0m \u001b[32m━━━━━━━━━━━━━━━━━━━━\u001b[0m\u001b[37m\u001b[0m \u001b[1m5s\u001b[0m 9ms/step - accuracy: 0.9236 - loss: 0.0031 - val_accuracy: 0.9243 - val_loss: 0.0024\n",
      "Epoch 32/50\n",
      "\u001b[1m440/440\u001b[0m \u001b[32m━━━━━━━━━━━━━━━━━━━━\u001b[0m\u001b[37m\u001b[0m \u001b[1m5s\u001b[0m 7ms/step - accuracy: 0.9198 - loss: 0.0031 - val_accuracy: 0.9266 - val_loss: 0.0024\n",
      "Epoch 33/50\n",
      "\u001b[1m440/440\u001b[0m \u001b[32m━━━━━━━━━━━━━━━━━━━━\u001b[0m\u001b[37m\u001b[0m \u001b[1m6s\u001b[0m 8ms/step - accuracy: 0.9244 - loss: 0.0031 - val_accuracy: 0.9226 - val_loss: 0.0024\n",
      "Epoch 34/50\n",
      "\u001b[1m440/440\u001b[0m \u001b[32m━━━━━━━━━━━━━━━━━━━━\u001b[0m\u001b[37m\u001b[0m \u001b[1m5s\u001b[0m 6ms/step - accuracy: 0.9251 - loss: 0.0030 - val_accuracy: 0.9249 - val_loss: 0.0024\n",
      "Epoch 35/50\n",
      "\u001b[1m440/440\u001b[0m \u001b[32m━━━━━━━━━━━━━━━━━━━━\u001b[0m\u001b[37m\u001b[0m \u001b[1m5s\u001b[0m 7ms/step - accuracy: 0.9168 - loss: 0.0030 - val_accuracy: 0.9232 - val_loss: 0.0024\n",
      "Epoch 36/50\n",
      "\u001b[1m440/440\u001b[0m \u001b[32m━━━━━━━━━━━━━━━━━━━━\u001b[0m\u001b[37m\u001b[0m \u001b[1m5s\u001b[0m 6ms/step - accuracy: 0.9201 - loss: 0.0030 - val_accuracy: 0.9278 - val_loss: 0.0024\n",
      "Epoch 37/50\n",
      "\u001b[1m440/440\u001b[0m \u001b[32m━━━━━━━━━━━━━━━━━━━━\u001b[0m\u001b[37m\u001b[0m \u001b[1m4s\u001b[0m 8ms/step - accuracy: 0.9123 - loss: 0.0032 - val_accuracy: 0.9266 - val_loss: 0.0024\n",
      "Epoch 38/50\n",
      "\u001b[1m440/440\u001b[0m \u001b[32m━━━━━━━━━━━━━━━━━━━━\u001b[0m\u001b[37m\u001b[0m \u001b[1m6s\u001b[0m 9ms/step - accuracy: 0.9248 - loss: 0.0031 - val_accuracy: 0.9317 - val_loss: 0.0024\n",
      "Epoch 39/50\n",
      "\u001b[1m440/440\u001b[0m \u001b[32m━━━━━━━━━━━━━━━━━━━━\u001b[0m\u001b[37m\u001b[0m \u001b[1m6s\u001b[0m 8ms/step - accuracy: 0.9244 - loss: 0.0030 - val_accuracy: 0.9187 - val_loss: 0.0024\n",
      "Epoch 40/50\n",
      "\u001b[1m440/440\u001b[0m \u001b[32m━━━━━━━━━━━━━━━━━━━━\u001b[0m\u001b[37m\u001b[0m \u001b[1m6s\u001b[0m 8ms/step - accuracy: 0.9306 - loss: 0.0030 - val_accuracy: 0.9317 - val_loss: 0.0024\n",
      "Epoch 41/50\n",
      "\u001b[1m440/440\u001b[0m \u001b[32m━━━━━━━━━━━━━━━━━━━━\u001b[0m\u001b[37m\u001b[0m \u001b[1m6s\u001b[0m 8ms/step - accuracy: 0.9257 - loss: 0.0031 - val_accuracy: 0.9175 - val_loss: 0.0024\n",
      "Epoch 42/50\n",
      "\u001b[1m440/440\u001b[0m \u001b[32m━━━━━━━━━━━━━━━━━━━━\u001b[0m\u001b[37m\u001b[0m \u001b[1m6s\u001b[0m 11ms/step - accuracy: 0.9304 - loss: 0.0029 - val_accuracy: 0.9283 - val_loss: 0.0024\n",
      "Epoch 43/50\n",
      "\u001b[1m440/440\u001b[0m \u001b[32m━━━━━━━━━━━━━━━━━━━━\u001b[0m\u001b[37m\u001b[0m \u001b[1m4s\u001b[0m 8ms/step - accuracy: 0.9271 - loss: 0.0030 - val_accuracy: 0.9164 - val_loss: 0.0024\n",
      "Epoch 44/50\n",
      "\u001b[1m440/440\u001b[0m \u001b[32m━━━━━━━━━━━━━━━━━━━━\u001b[0m\u001b[37m\u001b[0m \u001b[1m4s\u001b[0m 9ms/step - accuracy: 0.9219 - loss: 0.0032 - val_accuracy: 0.9238 - val_loss: 0.0024\n",
      "Epoch 45/50\n",
      "\u001b[1m440/440\u001b[0m \u001b[32m━━━━━━━━━━━━━━━━━━━━\u001b[0m\u001b[37m\u001b[0m \u001b[1m7s\u001b[0m 12ms/step - accuracy: 0.9267 - loss: 0.0029 - val_accuracy: 0.9209 - val_loss: 0.0024\n",
      "Epoch 46/50\n",
      "\u001b[1m440/440\u001b[0m \u001b[32m━━━━━━━━━━━━━━━━━━━━\u001b[0m\u001b[37m\u001b[0m \u001b[1m5s\u001b[0m 11ms/step - accuracy: 0.9295 - loss: 0.0030 - val_accuracy: 0.9221 - val_loss: 0.0024\n",
      "Epoch 47/50\n",
      "\u001b[1m440/440\u001b[0m \u001b[32m━━━━━━━━━━━━━━━━━━━━\u001b[0m\u001b[37m\u001b[0m \u001b[1m8s\u001b[0m 13ms/step - accuracy: 0.9248 - loss: 0.0029 - val_accuracy: 0.9204 - val_loss: 0.0024\n",
      "Epoch 48/50\n",
      "\u001b[1m440/440\u001b[0m \u001b[32m━━━━━━━━━━━━━━━━━━━━\u001b[0m\u001b[37m\u001b[0m \u001b[1m5s\u001b[0m 10ms/step - accuracy: 0.9291 - loss: 0.0030 - val_accuracy: 0.9164 - val_loss: 0.0024\n",
      "Epoch 49/50\n",
      "\u001b[1m440/440\u001b[0m \u001b[32m━━━━━━━━━━━━━━━━━━━━\u001b[0m\u001b[37m\u001b[0m \u001b[1m3s\u001b[0m 8ms/step - accuracy: 0.9277 - loss: 0.0030 - val_accuracy: 0.9261 - val_loss: 0.0024\n",
      "Epoch 50/50\n",
      "\u001b[1m440/440\u001b[0m \u001b[32m━━━━━━━━━━━━━━━━━━━━\u001b[0m\u001b[37m\u001b[0m \u001b[1m7s\u001b[0m 11ms/step - accuracy: 0.9302 - loss: 0.0030 - val_accuracy: 0.9164 - val_loss: 0.0024\n"
     ]
    },
    {
     "data": {
      "text/plain": [
       "<keras.src.callbacks.history.History at 0x24dd2cbf5d0>"
      ]
     },
     "execution_count": 6,
     "metadata": {},
     "output_type": "execute_result"
    }
   ],
   "source": [
    "# Feature Scaling\n",
    "scaler = MinMaxScaler()\n",
    "X_scaled = scaler.fit_transform(X)\n",
    "\n",
    "# Autoencoder\n",
    "from keras.layers import Input, Dense\n",
    "from keras.models import Model\n",
    "\n",
    "# Set the encoding dimension\n",
    "encoding_dim = 3\n",
    "\n",
    "# Input layer\n",
    "input_layer = Input(shape=(X.shape[1],))\n",
    "\n",
    "# Encoder layers\n",
    "encoder = Dense(encoding_dim, activation='relu')(input_layer)\n",
    "\n",
    "# Decoder layers\n",
    "decoder = Dense(X.shape[1], activation='softmax')(encoder)\n",
    "\n",
    "# Autoencoder model\n",
    "autoencoder = Model(inputs=input_layer, outputs=decoder)\n",
    "\n",
    "# Compile and train the autoencoder\n",
    "autoencoder.compile(optimizer='adam', loss='mean_squared_error', metrics=['accuracy'])\n",
    "autoencoder.fit(X_scaled, X_scaled, epochs=50, batch_size=16, shuffle=True, validation_split=0.2)"
   ]
  },
  {
   "cell_type": "markdown",
   "metadata": {
    "id": "peqjDgEXp8eL"
   },
   "source": [
    "After training the autoencoder, we can extract the encoded features:"
   ]
  },
  {
   "cell_type": "code",
   "execution_count": 7,
   "metadata": {
    "colab": {
     "base_uri": "https://localhost:8080/"
    },
    "id": "iu5X1Y6_p8-6",
    "outputId": "b8bfb1b8-e4c7-4578-d4da-4de93b6f8b69"
   },
   "outputs": [
    {
     "name": "stdout",
     "output_type": "stream",
     "text": [
      "\u001b[1m275/275\u001b[0m \u001b[32m━━━━━━━━━━━━━━━━━━━━\u001b[0m\u001b[37m\u001b[0m \u001b[1m1s\u001b[0m 2ms/step\n"
     ]
    }
   ],
   "source": [
    "# Extract encoded features\n",
    "encoder = Model(inputs=input_layer, outputs=encoder)\n",
    "encoded_features = encoder.predict(X_scaled)"
   ]
  },
  {
   "cell_type": "markdown",
   "metadata": {
    "id": "4ro7IsWMp_Rq"
   },
   "source": [
    "Now, we can apply K-means clustering to group the samples into three clusters:"
   ]
  },
  {
   "cell_type": "code",
   "execution_count": 8,
   "metadata": {
    "id": "B7-ZNlEFqBQ_"
   },
   "outputs": [],
   "source": [
    "# Apply K-means clustering\n",
    "kmeans = KMeans(n_clusters=3, random_state=42)\n",
    "kmeans.fit(encoded_features)\n",
    "clusters = kmeans.predict(encoded_features)\n",
    "\n",
    "high_caloric = encoded_features[clusters == 0]\n",
    "mid_caloric = encoded_features[clusters == 1]\n",
    "low_caloric = encoded_features[clusters == 2]\n",
    "df['cluster'] = clusters"
   ]
  },
  {
   "cell_type": "code",
   "execution_count": 9,
   "metadata": {
    "colab": {
     "base_uri": "https://localhost:8080/",
     "height": 438
    },
    "id": "S59dIUCCRZ84",
    "outputId": "84a1926c-3bbb-4776-e539-f83f904ef0bf"
   },
   "outputs": [
    {
     "data": {
      "image/png": "[encoded data removed]",
      "text/plain": [
       "<Figure size 640x480 with 1 Axes>"
      ]
     },
     "metadata": {},
     "output_type": "display_data"
    }
   ],
   "source": [
    "# Visualize the clusters\n",
    "fig = plt.figure()\n",
    "ax = fig.add_subplot(111, projection='3d')\n",
    "\n",
    "# Plot the high-caloric food cluster\n",
    "ax.scatter(high_caloric[:, 0], high_caloric[:, 1], high_caloric[:, 2], c='r', label='High-Caloric')\n",
    "\n",
    "# Plot the mid-caloric food cluster\n",
    "ax.scatter(mid_caloric[:, 0], mid_caloric[:, 1], mid_caloric[:, 2], c='g', label='Mid-Caloric')\n",
    "\n",
    "# Plot the low-caloric food cluster\n",
    "ax.scatter(low_caloric[:, 0], low_caloric[:, 1], low_caloric[:, 2], c='b', label='Low-Caloric')\n",
    "\n",
    "ax.set_xlabel('Dimension 1')\n",
    "ax.set_ylabel('Dimension 2')\n",
    "ax.set_zlabel('Dimension 3')\n",
    "\n",
    "ax.legend()\n",
    "plt.title('Cluster Visualization')\n",
    "plt.show()"
   ]
  },
  {
   "cell_type": "markdown",
   "metadata": {
    "id": "CnguHk8EqDWA"
   },
   "source": [
    "Next, we can generate the right food diets using Particle Swarm Optimization (PSO) for the CNN model:"
   ]
  },
  {
   "cell_type": "code",
   "execution_count": 10,
   "metadata": {
    "colab": {
     "base_uri": "https://localhost:8080/"
    },
    "id": "9wKp8hNOqbsm",
    "outputId": "7551a5ef-fe01-4c6e-ac23-352a145da619"
   },
   "outputs": [
    {
     "name": "stdout",
     "output_type": "stream",
     "text": [
      "Requirement already satisfied: pyswarms in c:\\users\\admin\\anaconda3\\lib\\site-packages (1.3.0)\n",
      "Requirement already satisfied: scipy in c:\\users\\admin\\anaconda3\\lib\\site-packages (from pyswarms) (1.11.4)\n",
      "Requirement already satisfied: numpy in c:\\users\\admin\\anaconda3\\lib\\site-packages (from pyswarms) (1.26.4)\n",
      "Requirement already satisfied: matplotlib>=1.3.1 in c:\\users\\admin\\anaconda3\\lib\\site-packages (from pyswarms) (3.8.0)\n",
      "Requirement already satisfied: attrs in c:\\users\\admin\\anaconda3\\lib\\site-packages (from pyswarms) (23.1.0)\n",
      "Requirement already satisfied: tqdm in c:\\users\\admin\\anaconda3\\lib\\site-packages (from pyswarms) (4.65.0)\n",
      "Requirement already satisfied: future in c:\\users\\admin\\anaconda3\\lib\\site-packages (from pyswarms) (0.18.3)\n",
      "Requirement already satisfied: pyyaml in c:\\users\\admin\\anaconda3\\lib\\site-packages (from pyswarms) (6.0.1)\n",
      "Requirement already satisfied: contourpy>=1.0.1 in c:\\users\\admin\\anaconda3\\lib\\site-packages (from matplotlib>=1.3.1->pyswarms) (1.2.0)\n",
      "Requirement already satisfied: cycler>=0.10 in c:\\users\\admin\\anaconda3\\lib\\site-packages (from matplotlib>=1.3.1->pyswarms) (0.11.0)\n",
      "Requirement already satisfied: fonttools>=4.22.0 in c:\\users\\admin\\anaconda3\\lib\\site-packages (from matplotlib>=1.3.1->pyswarms) (4.25.0)\n",
      "Requirement already satisfied: kiwisolver>=1.0.1 in c:\\users\\admin\\anaconda3\\lib\\site-packages (from matplotlib>=1.3.1->pyswarms) (1.4.4)\n",
      "Requirement already satisfied: packaging>=20.0 in c:\\users\\admin\\anaconda3\\lib\\site-packages (from matplotlib>=1.3.1->pyswarms) (23.1)\n",
      "Requirement already satisfied: pillow>=6.2.0 in c:\\users\\admin\\anaconda3\\lib\\site-packages (from matplotlib>=1.3.1->pyswarms) (10.2.0)\n",
      "Requirement already satisfied: pyparsing>=2.3.1 in c:\\users\\admin\\anaconda3\\lib\\site-packages (from matplotlib>=1.3.1->pyswarms) (3.0.9)\n",
      "Requirement already satisfied: python-dateutil>=2.7 in c:\\users\\admin\\anaconda3\\lib\\site-packages (from matplotlib>=1.3.1->pyswarms) (2.8.2)\n",
      "Requirement already satisfied: colorama in c:\\users\\admin\\anaconda3\\lib\\site-packages (from tqdm->pyswarms) (0.4.6)\n",
      "Requirement already satisfied: six>=1.5 in c:\\users\\admin\\anaconda3\\lib\\site-packages (from python-dateutil>=2.7->matplotlib>=1.3.1->pyswarms) (1.16.0)\n",
      "Note: you may need to restart the kernel to use updated packages.\n"
     ]
    }
   ],
   "source": [
    "pip install pyswarms"
   ]
  },
  {
   "cell_type": "code",
   "execution_count": 11,
   "metadata": {
    "id": "A2UBrlS9MkGp"
   },
   "outputs": [],
   "source": [
    "import pyswarms as ps"
   ]
  },
  {
   "cell_type": "code",
   "execution_count": 12,
   "metadata": {
    "colab": {
     "base_uri": "https://localhost:8080/"
    },
    "id": "BLdIaDdKabNf",
    "outputId": "7a9f425d-1b48-4e0a-bd2a-651a42a21968"
   },
   "outputs": [
    {
     "name": "stderr",
     "output_type": "stream",
     "text": [
      "2024-11-09 10:30:10,237 - pyswarms.single.global_best - INFO - Optimize for 40 iters with {'c1': 0.5, 'c2': 0.3, 'w': 0.9}\n",
      "pyswarms.single.global_best:   0%|          |0/40"
     ]
    },
    {
     "name": "stdout",
     "output_type": "stream",
     "text": [
      "Shape of selected_features: (3, 49)\n"
     ]
    },
    {
     "name": "stderr",
     "output_type": "stream",
     "text": [
      "pyswarms.single.global_best:   2%|▎         |1/40, best_cost=0.742"
     ]
    },
    {
     "name": "stdout",
     "output_type": "stream",
     "text": [
      "Shape of selected_features: (3, 49)\n"
     ]
    },
    {
     "name": "stderr",
     "output_type": "stream",
     "text": [
      "pyswarms.single.global_best:   5%|▌         |2/40, best_cost=0.74 "
     ]
    },
    {
     "name": "stdout",
     "output_type": "stream",
     "text": [
      "Shape of selected_features: (3, 49)\n"
     ]
    },
    {
     "name": "stderr",
     "output_type": "stream",
     "text": [
      "pyswarms.single.global_best:   8%|▊         |3/40, best_cost=0.74"
     ]
    },
    {
     "name": "stdout",
     "output_type": "stream",
     "text": [
      "Shape of selected_features: (3, 49)\n"
     ]
    },
    {
     "name": "stderr",
     "output_type": "stream",
     "text": [
      "pyswarms.single.global_best:  10%|█         |4/40, best_cost=0.74"
     ]
    },
    {
     "name": "stdout",
     "output_type": "stream",
     "text": [
      "Shape of selected_features: (3, 49)\n"
     ]
    },
    {
     "name": "stderr",
     "output_type": "stream",
     "text": [
      "pyswarms.single.global_best:  12%|█▎        |5/40, best_cost=0.74"
     ]
    },
    {
     "name": "stdout",
     "output_type": "stream",
     "text": [
      "Shape of selected_features: (3, 49)\n"
     ]
    },
    {
     "name": "stderr",
     "output_type": "stream",
     "text": [
      "pyswarms.single.global_best:  15%|█▌        |6/40, best_cost=0.74"
     ]
    },
    {
     "name": "stdout",
     "output_type": "stream",
     "text": [
      "Shape of selected_features: (3, 49)\n"
     ]
    },
    {
     "name": "stderr",
     "output_type": "stream",
     "text": [
      "pyswarms.single.global_best:  18%|█▊        |7/40, best_cost=0.733"
     ]
    },
    {
     "name": "stdout",
     "output_type": "stream",
     "text": [
      "Shape of selected_features: (3, 49)\n"
     ]
    },
    {
     "name": "stderr",
     "output_type": "stream",
     "text": [
      "pyswarms.single.global_best:  20%|██        |8/40, best_cost=0.733"
     ]
    },
    {
     "name": "stdout",
     "output_type": "stream",
     "text": [
      "Shape of selected_features: (3, 49)\n"
     ]
    },
    {
     "name": "stderr",
     "output_type": "stream",
     "text": [
      "pyswarms.single.global_best:  22%|██▎       |9/40, best_cost=0.733"
     ]
    },
    {
     "name": "stdout",
     "output_type": "stream",
     "text": [
      "Shape of selected_features: (3, 49)\n"
     ]
    },
    {
     "name": "stderr",
     "output_type": "stream",
     "text": [
      "pyswarms.single.global_best:  25%|██▌       |10/40, best_cost=0.733"
     ]
    },
    {
     "name": "stdout",
     "output_type": "stream",
     "text": [
      "Shape of selected_features: (3, 49)\n"
     ]
    },
    {
     "name": "stderr",
     "output_type": "stream",
     "text": [
      "pyswarms.single.global_best:  28%|██▊       |11/40, best_cost=0.733"
     ]
    },
    {
     "name": "stdout",
     "output_type": "stream",
     "text": [
      "Shape of selected_features: (3, 49)\n"
     ]
    },
    {
     "name": "stderr",
     "output_type": "stream",
     "text": [
      "pyswarms.single.global_best:  30%|███       |12/40, best_cost=0.733"
     ]
    },
    {
     "name": "stdout",
     "output_type": "stream",
     "text": [
      "Shape of selected_features: (3, 49)\n"
     ]
    },
    {
     "name": "stderr",
     "output_type": "stream",
     "text": [
      "pyswarms.single.global_best:  32%|███▎      |13/40, best_cost=0.733"
     ]
    },
    {
     "name": "stdout",
     "output_type": "stream",
     "text": [
      "Shape of selected_features: (3, 49)\n"
     ]
    },
    {
     "name": "stderr",
     "output_type": "stream",
     "text": [
      "pyswarms.single.global_best:  35%|███▌      |14/40, best_cost=0.733"
     ]
    },
    {
     "name": "stdout",
     "output_type": "stream",
     "text": [
      "Shape of selected_features: (3, 49)\n"
     ]
    },
    {
     "name": "stderr",
     "output_type": "stream",
     "text": [
      "pyswarms.single.global_best:  38%|███▊      |15/40, best_cost=0.733"
     ]
    },
    {
     "name": "stdout",
     "output_type": "stream",
     "text": [
      "Shape of selected_features: (3, 49)\n"
     ]
    },
    {
     "name": "stderr",
     "output_type": "stream",
     "text": [
      "pyswarms.single.global_best:  40%|████      |16/40, best_cost=0.733"
     ]
    },
    {
     "name": "stdout",
     "output_type": "stream",
     "text": [
      "Shape of selected_features: (3, 49)\n"
     ]
    },
    {
     "name": "stderr",
     "output_type": "stream",
     "text": [
      "pyswarms.single.global_best:  42%|████▎     |17/40, best_cost=0.733"
     ]
    },
    {
     "name": "stdout",
     "output_type": "stream",
     "text": [
      "Shape of selected_features: (3, 49)\n"
     ]
    },
    {
     "name": "stderr",
     "output_type": "stream",
     "text": [
      "pyswarms.single.global_best:  45%|████▌     |18/40, best_cost=0.733"
     ]
    },
    {
     "name": "stdout",
     "output_type": "stream",
     "text": [
      "Shape of selected_features: (3, 49)\n"
     ]
    },
    {
     "name": "stderr",
     "output_type": "stream",
     "text": [
      "pyswarms.single.global_best:  48%|████▊     |19/40, best_cost=0.733"
     ]
    },
    {
     "name": "stdout",
     "output_type": "stream",
     "text": [
      "Shape of selected_features: (3, 49)\n"
     ]
    },
    {
     "name": "stderr",
     "output_type": "stream",
     "text": [
      "pyswarms.single.global_best:  50%|█████     |20/40, best_cost=0.733"
     ]
    },
    {
     "name": "stdout",
     "output_type": "stream",
     "text": [
      "Shape of selected_features: (3, 49)\n"
     ]
    },
    {
     "name": "stderr",
     "output_type": "stream",
     "text": [
      "pyswarms.single.global_best:  52%|█████▎    |21/40, best_cost=0.733"
     ]
    },
    {
     "name": "stdout",
     "output_type": "stream",
     "text": [
      "Shape of selected_features: (3, 49)\n"
     ]
    },
    {
     "name": "stderr",
     "output_type": "stream",
     "text": [
      "pyswarms.single.global_best:  55%|█████▌    |22/40, best_cost=0.733"
     ]
    },
    {
     "name": "stdout",
     "output_type": "stream",
     "text": [
      "Shape of selected_features: (3, 49)\n"
     ]
    },
    {
     "name": "stderr",
     "output_type": "stream",
     "text": [
      "pyswarms.single.global_best:  57%|█████▊    |23/40, best_cost=0.733"
     ]
    },
    {
     "name": "stdout",
     "output_type": "stream",
     "text": [
      "Shape of selected_features: (3, 49)\n"
     ]
    },
    {
     "name": "stderr",
     "output_type": "stream",
     "text": [
      "pyswarms.single.global_best:  60%|██████    |24/40, best_cost=0.733"
     ]
    },
    {
     "name": "stdout",
     "output_type": "stream",
     "text": [
      "Shape of selected_features: (3, 49)\n"
     ]
    },
    {
     "name": "stderr",
     "output_type": "stream",
     "text": [
      "pyswarms.single.global_best:  62%|██████▎   |25/40, best_cost=0.733"
     ]
    },
    {
     "name": "stdout",
     "output_type": "stream",
     "text": [
      "Shape of selected_features: (3, 49)\n"
     ]
    },
    {
     "name": "stderr",
     "output_type": "stream",
     "text": [
      "pyswarms.single.global_best:  65%|██████▌   |26/40, best_cost=0.733"
     ]
    },
    {
     "name": "stdout",
     "output_type": "stream",
     "text": [
      "Shape of selected_features: (3, 49)\n"
     ]
    },
    {
     "name": "stderr",
     "output_type": "stream",
     "text": [
      "pyswarms.single.global_best:  68%|██████▊   |27/40, best_cost=0.733"
     ]
    },
    {
     "name": "stdout",
     "output_type": "stream",
     "text": [
      "Shape of selected_features: (3, 49)\n"
     ]
    },
    {
     "name": "stderr",
     "output_type": "stream",
     "text": [
      "pyswarms.single.global_best:  70%|███████   |28/40, best_cost=0.733"
     ]
    },
    {
     "name": "stdout",
     "output_type": "stream",
     "text": [
      "Shape of selected_features: (3, 49)\n"
     ]
    },
    {
     "name": "stderr",
     "output_type": "stream",
     "text": [
      "pyswarms.single.global_best:  72%|███████▎  |29/40, best_cost=0.733"
     ]
    },
    {
     "name": "stdout",
     "output_type": "stream",
     "text": [
      "Shape of selected_features: (3, 49)\n"
     ]
    },
    {
     "name": "stderr",
     "output_type": "stream",
     "text": [
      "pyswarms.single.global_best:  75%|███████▌  |30/40, best_cost=0.733"
     ]
    },
    {
     "name": "stdout",
     "output_type": "stream",
     "text": [
      "Shape of selected_features: (3, 49)\n"
     ]
    },
    {
     "name": "stderr",
     "output_type": "stream",
     "text": [
      "pyswarms.single.global_best:  78%|███████▊  |31/40, best_cost=0.733"
     ]
    },
    {
     "name": "stdout",
     "output_type": "stream",
     "text": [
      "Shape of selected_features: (3, 49)\n"
     ]
    },
    {
     "name": "stderr",
     "output_type": "stream",
     "text": [
      "pyswarms.single.global_best:  80%|████████  |32/40, best_cost=0.733"
     ]
    },
    {
     "name": "stdout",
     "output_type": "stream",
     "text": [
      "Shape of selected_features: (3, 49)\n"
     ]
    },
    {
     "name": "stderr",
     "output_type": "stream",
     "text": [
      "pyswarms.single.global_best:  82%|████████▎ |33/40, best_cost=0.733"
     ]
    },
    {
     "name": "stdout",
     "output_type": "stream",
     "text": [
      "Shape of selected_features: (3, 49)\n"
     ]
    },
    {
     "name": "stderr",
     "output_type": "stream",
     "text": [
      "pyswarms.single.global_best:  85%|████████▌ |34/40, best_cost=0.733"
     ]
    },
    {
     "name": "stdout",
     "output_type": "stream",
     "text": [
      "Shape of selected_features: (3, 49)\n"
     ]
    },
    {
     "name": "stderr",
     "output_type": "stream",
     "text": [
      "pyswarms.single.global_best:  88%|████████▊ |35/40, best_cost=0.733"
     ]
    },
    {
     "name": "stdout",
     "output_type": "stream",
     "text": [
      "Shape of selected_features: (3, 49)\n"
     ]
    },
    {
     "name": "stderr",
     "output_type": "stream",
     "text": [
      "pyswarms.single.global_best:  90%|█████████ |36/40, best_cost=0.733"
     ]
    },
    {
     "name": "stdout",
     "output_type": "stream",
     "text": [
      "Shape of selected_features: (3, 49)\n"
     ]
    },
    {
     "name": "stderr",
     "output_type": "stream",
     "text": [
      "pyswarms.single.global_best:  92%|█████████▎|37/40, best_cost=0.733"
     ]
    },
    {
     "name": "stdout",
     "output_type": "stream",
     "text": [
      "Shape of selected_features: (3, 49)\n"
     ]
    },
    {
     "name": "stderr",
     "output_type": "stream",
     "text": [
      "pyswarms.single.global_best:  95%|█████████▌|38/40, best_cost=0.733"
     ]
    },
    {
     "name": "stdout",
     "output_type": "stream",
     "text": [
      "Shape of selected_features: (3, 49)\n"
     ]
    },
    {
     "name": "stderr",
     "output_type": "stream",
     "text": [
      "pyswarms.single.global_best:  98%|█████████▊|39/40, best_cost=0.733"
     ]
    },
    {
     "name": "stdout",
     "output_type": "stream",
     "text": [
      "Shape of selected_features: (3, 49)\n"
     ]
    },
    {
     "name": "stderr",
     "output_type": "stream",
     "text": [
      "pyswarms.single.global_best: 100%|██████████|40/40, best_cost=0.733\n",
      "2024-11-09 10:34:03,118 - pyswarms.single.global_best - INFO - Optimization finished | best cost: 0.7334470989761093, best pos: [1.41843042 1.78452278 1.71666645 2.16646709 0.81770226 0.31345072\n",
      " 0.10395387 1.80991904 0.58337906 1.0885292  1.43127335 0.88997981\n",
      " 1.62423209 0.86097574 1.53081727 0.86901476 1.55491205 2.03928742\n",
      " 1.6070167  1.43046851 0.7427557  1.78822268 3.01027184 2.07074419\n",
      " 2.26188153 1.68958772 2.20192531 1.54745457 1.46554168 1.74625926\n",
      " 2.35523552 2.19105614 2.55466646 2.93930715 1.50723338 2.19548724\n",
      " 0.82213724 2.26822072 2.08409104 3.31278981 2.07236898 1.10203928\n",
      " 1.6398269  0.48603385 1.24502006 1.45559382 1.23568515 1.21862594\n",
      " 1.35038858]\n"
     ]
    }
   ],
   "source": [
    "X = X\n",
    "y = df['cluster'].values\n",
    "from sklearn.svm import LinearSVC\n",
    "# Split the data into train and test sets\n",
    "X_train, X_test, y_train, y_test = train_test_split(X, y, test_size=0.2, random_state=42)\n",
    "def calculate_fitness(position, X, y):\n",
    "    selected_features = position >= 0.5\n",
    "    print('Shape of selected_features:', selected_features.shape)\n",
    "    X_selected = X[:, selected_features.shape[0]]\n",
    "    clf = LinearSVC()\n",
    "    score = np.mean(cross_val_score(clf, X_selected.reshape(-1,1), y, cv=5))\n",
    "    return score\n",
    "\n",
    "def pso_feature_selection(X, y, num_particles, num_iterations):\n",
    "    num_features = X.shape[1]\n",
    "    options = {'c1': 0.5, 'c2': 0.3, 'w': 0.9}\n",
    "    dimensions = num_features\n",
    "\n",
    "    optimizer = ps.single.GlobalBestPSO(n_particles=num_particles, dimensions=dimensions, options=options)\n",
    "\n",
    "    cost, pos = optimizer.optimize(calculate_fitness, iters=num_iterations, X=X, y=y)\n",
    "    selected_features = pos >= 0.5\n",
    "    X_selected = X[:, selected_features]\n",
    "\n",
    "    return X_selected\n",
    "\n",
    "num_particles = encoded_features.shape[1]  # Update num_particles to match the number of features\n",
    "X_selected = pso_feature_selection(X, y, num_particles=num_particles, num_iterations=40)"
   ]
  },
  {
   "cell_type": "code",
   "execution_count": 13,
   "metadata": {
    "id": "BoaCF0e1OthU"
   },
   "outputs": [],
   "source": [
    "from keras.models import Sequential\n",
    "from keras.layers import Conv1D, MaxPooling1D, Flatten, Dense\n",
    "from keras.utils import to_categorical # Move this import to the top\n",
    "from sklearn.metrics import precision_score, recall_score, f1_score\n",
    "\n",
    "def train_and_test(X_selected, y, test_size):\n",
    "  X_train, X_test, y_train, y_test = train_test_split(X_selected, y, test_size=0.2, random_state=42)\n",
    "  # Reshape the data for compatibility with CNN input\n",
    "  X_train = X_train.reshape(X_train.shape[0], X_train.shape[1], 1)\n",
    "  X_test = X_test.reshape(X_test.shape[0], X_test.shape[1], 1)\n",
    "\n",
    "  # Train the CNN model\n",
    "\n",
    "  # Encode target labels as one-hot vectors\n",
    "  num_classes = 3\n",
    "  y_train_encoded = to_categorical(y_train, num_classes)\n",
    "  y_test_encoded = to_categorical(y_test, num_classes)\n",
    "\n",
    "  # Build the CNN model\n",
    "  model = Sequential()\n",
    "  model.add(Conv1D(32, kernel_size=3, activation='relu', input_shape=(X_train.shape[1], 1)))\n",
    "  model.add(MaxPooling1D(pool_size=2))\n",
    "  model.add(Conv1D(64, kernel_size=3, activation='relu'))\n",
    "  model.add(MaxPooling1D(pool_size=2))\n",
    "  model.add(Flatten())\n",
    "  model.add(Dense(128, activation='relu'))\n",
    "  model.add(Dense(num_classes, activation='softmax'))\n",
    "\n",
    "  # Compile the model\n",
    "  model.compile(optimizer='adam', loss='categorical_crossentropy', metrics=['accuracy'])\n",
    "\n",
    "  # Train the model\n",
    "  model.fit(X_train, y_train_encoded, epochs=40, batch_size=64, validation_data=(X_test, y_test_encoded))\n",
    "\n",
    "  # Evaluate the model on the test data\n",
    "\n",
    "  # Encode target labels as one-hot vectors\n",
    "  y_test_encoded = to_categorical(y_test, num_classes)\n",
    "\n",
    "  # Evaluate the model\n",
    "  loss, accuracy = model.evaluate(X_test, y_test_encoded)\n",
    "  print(f\"Test Accuracy: {accuracy:.4f}\")\n",
    "  return {\"loss\": loss, \"accuracy\": accuracy, \"X\": X_selected, \"y\": y}"
   ]
  },
  {
   "cell_type": "code",
   "execution_count": 14,
   "metadata": {
    "colab": {
     "base_uri": "https://localhost:8080/"
    },
    "id": "BTKoXBc-PdLx",
    "outputId": "825dacdc-4f9d-4b40-cb07-ff48c4b5ab62"
   },
   "outputs": [
    {
     "name": "stdout",
     "output_type": "stream",
     "text": [
      "Epoch 1/40\n",
      "\u001b[1m110/110\u001b[0m \u001b[32m━━━━━━━━━━━━━━━━━━━━\u001b[0m\u001b[37m\u001b[0m \u001b[1m7s\u001b[0m 23ms/step - accuracy: 0.7484 - loss: 13.3286 - val_accuracy: 0.7861 - val_loss: 3.2787\n",
      "Epoch 2/40\n",
      "\u001b[1m110/110\u001b[0m \u001b[32m━━━━━━━━━━━━━━━━━━━━\u001b[0m\u001b[37m\u001b[0m \u001b[1m2s\u001b[0m 17ms/step - accuracy: 0.8529 - loss: 4.2402 - val_accuracy: 0.9147 - val_loss: 1.4161\n",
      "Epoch 3/40\n",
      "\u001b[1m110/110\u001b[0m \u001b[32m━━━━━━━━━━━━━━━━━━━━\u001b[0m\u001b[37m\u001b[0m \u001b[1m2s\u001b[0m 12ms/step - accuracy: 0.9007 - loss: 1.2837 - val_accuracy: 0.9460 - val_loss: 0.3515\n",
      "Epoch 4/40\n",
      "\u001b[1m110/110\u001b[0m \u001b[32m━━━━━━━━━━━━━━━━━━━━\u001b[0m\u001b[37m\u001b[0m \u001b[1m2s\u001b[0m 16ms/step - accuracy: 0.9468 - loss: 0.6268 - val_accuracy: 0.9573 - val_loss: 0.2881\n",
      "Epoch 5/40\n",
      "\u001b[1m110/110\u001b[0m \u001b[32m━━━━━━━━━━━━━━━━━━━━\u001b[0m\u001b[37m\u001b[0m \u001b[1m2s\u001b[0m 12ms/step - accuracy: 0.9578 - loss: 0.2265 - val_accuracy: 0.9676 - val_loss: 0.5652\n",
      "Epoch 6/40\n",
      "\u001b[1m110/110\u001b[0m \u001b[32m━━━━━━━━━━━━━━━━━━━━\u001b[0m\u001b[37m\u001b[0m \u001b[1m2s\u001b[0m 12ms/step - accuracy: 0.9499 - loss: 0.5624 - val_accuracy: 0.9556 - val_loss: 0.2576\n",
      "Epoch 7/40\n",
      "\u001b[1m110/110\u001b[0m \u001b[32m━━━━━━━━━━━━━━━━━━━━\u001b[0m\u001b[37m\u001b[0m \u001b[1m2s\u001b[0m 19ms/step - accuracy: 0.9541 - loss: 0.3088 - val_accuracy: 0.9477 - val_loss: 1.1112\n",
      "Epoch 8/40\n",
      "\u001b[1m110/110\u001b[0m \u001b[32m━━━━━━━━━━━━━━━━━━━━\u001b[0m\u001b[37m\u001b[0m \u001b[1m2s\u001b[0m 13ms/step - accuracy: 0.9559 - loss: 0.4255 - val_accuracy: 0.9721 - val_loss: 0.2332\n",
      "Epoch 9/40\n",
      "\u001b[1m110/110\u001b[0m \u001b[32m━━━━━━━━━━━━━━━━━━━━\u001b[0m\u001b[37m\u001b[0m \u001b[1m2s\u001b[0m 15ms/step - accuracy: 0.9676 - loss: 0.1600 - val_accuracy: 0.9619 - val_loss: 0.1693\n",
      "Epoch 10/40\n",
      "\u001b[1m110/110\u001b[0m \u001b[32m━━━━━━━━━━━━━━━━━━━━\u001b[0m\u001b[37m\u001b[0m \u001b[1m3s\u001b[0m 15ms/step - accuracy: 0.9715 - loss: 0.1624 - val_accuracy: 0.9431 - val_loss: 0.4586\n",
      "Epoch 11/40\n",
      "\u001b[1m110/110\u001b[0m \u001b[32m━━━━━━━━━━━━━━━━━━━━\u001b[0m\u001b[37m\u001b[0m \u001b[1m4s\u001b[0m 23ms/step - accuracy: 0.9649 - loss: 0.2016 - val_accuracy: 0.9295 - val_loss: 0.4918\n",
      "Epoch 12/40\n",
      "\u001b[1m110/110\u001b[0m \u001b[32m━━━━━━━━━━━━━━━━━━━━\u001b[0m\u001b[37m\u001b[0m \u001b[1m3s\u001b[0m 17ms/step - accuracy: 0.9583 - loss: 0.3042 - val_accuracy: 0.9721 - val_loss: 0.1576\n",
      "Epoch 13/40\n",
      "\u001b[1m110/110\u001b[0m \u001b[32m━━━━━━━━━━━━━━━━━━━━\u001b[0m\u001b[37m\u001b[0m \u001b[1m2s\u001b[0m 14ms/step - accuracy: 0.9674 - loss: 0.4195 - val_accuracy: 0.9716 - val_loss: 0.0878\n",
      "Epoch 14/40\n",
      "\u001b[1m110/110\u001b[0m \u001b[32m━━━━━━━━━━━━━━━━━━━━\u001b[0m\u001b[37m\u001b[0m \u001b[1m3s\u001b[0m 22ms/step - accuracy: 0.9760 - loss: 0.1243 - val_accuracy: 0.9807 - val_loss: 0.0705\n",
      "Epoch 15/40\n",
      "\u001b[1m110/110\u001b[0m \u001b[32m━━━━━━━━━━━━━━━━━━━━\u001b[0m\u001b[37m\u001b[0m \u001b[1m2s\u001b[0m 14ms/step - accuracy: 0.9793 - loss: 0.0781 - val_accuracy: 0.9824 - val_loss: 0.0940\n",
      "Epoch 16/40\n",
      "\u001b[1m110/110\u001b[0m \u001b[32m━━━━━━━━━━━━━━━━━━━━\u001b[0m\u001b[37m\u001b[0m \u001b[1m2s\u001b[0m 16ms/step - accuracy: 0.9857 - loss: 0.0566 - val_accuracy: 0.9846 - val_loss: 0.0576\n",
      "Epoch 17/40\n",
      "\u001b[1m110/110\u001b[0m \u001b[32m━━━━━━━━━━━━━━━━━━━━\u001b[0m\u001b[37m\u001b[0m \u001b[1m4s\u001b[0m 21ms/step - accuracy: 0.9839 - loss: 0.0768 - val_accuracy: 0.9812 - val_loss: 0.0697\n",
      "Epoch 18/40\n",
      "\u001b[1m110/110\u001b[0m \u001b[32m━━━━━━━━━━━━━━━━━━━━\u001b[0m\u001b[37m\u001b[0m \u001b[1m3s\u001b[0m 23ms/step - accuracy: 0.9826 - loss: 0.0614 - val_accuracy: 0.9807 - val_loss: 0.0899\n",
      "Epoch 19/40\n",
      "\u001b[1m110/110\u001b[0m \u001b[32m━━━━━━━━━━━━━━━━━━━━\u001b[0m\u001b[37m\u001b[0m \u001b[1m2s\u001b[0m 16ms/step - accuracy: 0.9765 - loss: 0.1105 - val_accuracy: 0.9795 - val_loss: 0.1425\n",
      "Epoch 20/40\n",
      "\u001b[1m110/110\u001b[0m \u001b[32m━━━━━━━━━━━━━━━━━━━━\u001b[0m\u001b[37m\u001b[0m \u001b[1m3s\u001b[0m 16ms/step - accuracy: 0.9798 - loss: 0.0975 - val_accuracy: 0.9818 - val_loss: 0.0698\n",
      "Epoch 21/40\n",
      "\u001b[1m110/110\u001b[0m \u001b[32m━━━━━━━━━━━━━━━━━━━━\u001b[0m\u001b[37m\u001b[0m \u001b[1m3s\u001b[0m 21ms/step - accuracy: 0.9800 - loss: 0.0968 - val_accuracy: 0.9778 - val_loss: 0.0864\n",
      "Epoch 22/40\n",
      "\u001b[1m110/110\u001b[0m \u001b[32m━━━━━━━━━━━━━━━━━━━━\u001b[0m\u001b[37m\u001b[0m \u001b[1m3s\u001b[0m 17ms/step - accuracy: 0.9806 - loss: 0.0668 - val_accuracy: 0.9846 - val_loss: 0.0558\n",
      "Epoch 23/40\n",
      "\u001b[1m110/110\u001b[0m \u001b[32m━━━━━━━━━━━━━━━━━━━━\u001b[0m\u001b[37m\u001b[0m \u001b[1m3s\u001b[0m 20ms/step - accuracy: 0.9880 - loss: 0.0388 - val_accuracy: 0.9807 - val_loss: 0.2251\n",
      "Epoch 24/40\n",
      "\u001b[1m110/110\u001b[0m \u001b[32m━━━━━━━━━━━━━━━━━━━━\u001b[0m\u001b[37m\u001b[0m \u001b[1m3s\u001b[0m 22ms/step - accuracy: 0.9772 - loss: 0.2165 - val_accuracy: 0.9807 - val_loss: 0.1333\n",
      "Epoch 25/40\n",
      "\u001b[1m110/110\u001b[0m \u001b[32m━━━━━━━━━━━━━━━━━━━━\u001b[0m\u001b[37m\u001b[0m \u001b[1m2s\u001b[0m 17ms/step - accuracy: 0.9816 - loss: 0.0684 - val_accuracy: 0.9858 - val_loss: 0.1021\n",
      "Epoch 26/40\n",
      "\u001b[1m110/110\u001b[0m \u001b[32m━━━━━━━━━━━━━━━━━━━━\u001b[0m\u001b[37m\u001b[0m \u001b[1m3s\u001b[0m 21ms/step - accuracy: 0.9892 - loss: 0.0341 - val_accuracy: 0.9824 - val_loss: 0.1029\n",
      "Epoch 27/40\n",
      "\u001b[1m110/110\u001b[0m \u001b[32m━━━━━━━━━━━━━━━━━━━━\u001b[0m\u001b[37m\u001b[0m \u001b[1m3s\u001b[0m 19ms/step - accuracy: 0.9919 - loss: 0.0250 - val_accuracy: 0.9835 - val_loss: 0.0931\n",
      "Epoch 28/40\n",
      "\u001b[1m110/110\u001b[0m \u001b[32m━━━━━━━━━━━━━━━━━━━━\u001b[0m\u001b[37m\u001b[0m \u001b[1m4s\u001b[0m 23ms/step - accuracy: 0.9920 - loss: 0.0233 - val_accuracy: 0.9852 - val_loss: 0.0901\n",
      "Epoch 29/40\n",
      "\u001b[1m110/110\u001b[0m \u001b[32m━━━━━━━━━━━━━━━━━━━━\u001b[0m\u001b[37m\u001b[0m \u001b[1m3s\u001b[0m 23ms/step - accuracy: 0.9938 - loss: 0.0208 - val_accuracy: 0.9824 - val_loss: 0.1003\n",
      "Epoch 30/40\n",
      "\u001b[1m110/110\u001b[0m \u001b[32m━━━━━━━━━━━━━━━━━━━━\u001b[0m\u001b[37m\u001b[0m \u001b[1m4s\u001b[0m 31ms/step - accuracy: 0.9940 - loss: 0.0184 - val_accuracy: 0.9846 - val_loss: 0.0920\n",
      "Epoch 31/40\n",
      "\u001b[1m110/110\u001b[0m \u001b[32m━━━━━━━━━━━━━━━━━━━━\u001b[0m\u001b[37m\u001b[0m \u001b[1m4s\u001b[0m 15ms/step - accuracy: 0.9886 - loss: 0.0551 - val_accuracy: 0.9829 - val_loss: 0.1292\n",
      "Epoch 32/40\n",
      "\u001b[1m110/110\u001b[0m \u001b[32m━━━━━━━━━━━━━━━━━━━━\u001b[0m\u001b[37m\u001b[0m \u001b[1m4s\u001b[0m 22ms/step - accuracy: 0.9915 - loss: 0.0262 - val_accuracy: 0.9863 - val_loss: 0.0799\n",
      "Epoch 33/40\n",
      "\u001b[1m110/110\u001b[0m \u001b[32m━━━━━━━━━━━━━━━━━━━━\u001b[0m\u001b[37m\u001b[0m \u001b[1m3s\u001b[0m 24ms/step - accuracy: 0.9906 - loss: 0.0336 - val_accuracy: 0.9858 - val_loss: 0.1107\n",
      "Epoch 34/40\n",
      "\u001b[1m110/110\u001b[0m \u001b[32m━━━━━━━━━━━━━━━━━━━━\u001b[0m\u001b[37m\u001b[0m \u001b[1m3s\u001b[0m 22ms/step - accuracy: 0.9910 - loss: 0.0467 - val_accuracy: 0.9841 - val_loss: 0.0889\n",
      "Epoch 35/40\n",
      "\u001b[1m110/110\u001b[0m \u001b[32m━━━━━━━━━━━━━━━━━━━━\u001b[0m\u001b[37m\u001b[0m \u001b[1m5s\u001b[0m 38ms/step - accuracy: 0.9861 - loss: 0.0813 - val_accuracy: 0.9585 - val_loss: 0.8559\n",
      "Epoch 36/40\n",
      "\u001b[1m110/110\u001b[0m \u001b[32m━━━━━━━━━━━━━━━━━━━━\u001b[0m\u001b[37m\u001b[0m \u001b[1m5s\u001b[0m 29ms/step - accuracy: 0.9478 - loss: 1.1742 - val_accuracy: 0.9767 - val_loss: 0.1088\n",
      "Epoch 37/40\n",
      "\u001b[1m110/110\u001b[0m \u001b[32m━━━━━━━━━━━━━━━━━━━━\u001b[0m\u001b[37m\u001b[0m \u001b[1m4s\u001b[0m 37ms/step - accuracy: 0.9786 - loss: 0.0895 - val_accuracy: 0.9824 - val_loss: 0.0997\n",
      "Epoch 38/40\n",
      "\u001b[1m110/110\u001b[0m \u001b[32m━━━━━━━━━━━━━━━━━━━━\u001b[0m\u001b[37m\u001b[0m \u001b[1m6s\u001b[0m 37ms/step - accuracy: 0.9803 - loss: 0.1061 - val_accuracy: 0.9846 - val_loss: 0.1077\n",
      "Epoch 39/40\n",
      "\u001b[1m110/110\u001b[0m \u001b[32m━━━━━━━━━━━━━━━━━━━━\u001b[0m\u001b[37m\u001b[0m \u001b[1m4s\u001b[0m 21ms/step - accuracy: 0.9866 - loss: 0.0466 - val_accuracy: 0.9829 - val_loss: 0.1046\n",
      "Epoch 40/40\n",
      "\u001b[1m110/110\u001b[0m \u001b[32m━━━━━━━━━━━━━━━━━━━━\u001b[0m\u001b[37m\u001b[0m \u001b[1m3s\u001b[0m 24ms/step - accuracy: 0.9868 - loss: 0.0455 - val_accuracy: 0.9852 - val_loss: 0.1119\n",
      "\u001b[1m55/55\u001b[0m \u001b[32m━━━━━━━━━━━━━━━━━━━━\u001b[0m\u001b[37m\u001b[0m \u001b[1m1s\u001b[0m 5ms/step - accuracy: 0.9841 - loss: 0.2028\n",
      "Test Accuracy: 0.9852\n",
      "Epoch 1/40\n",
      "\u001b[1m110/110\u001b[0m \u001b[32m━━━━━━━━━━━━━━━━━━━━\u001b[0m\u001b[37m\u001b[0m \u001b[1m7s\u001b[0m 32ms/step - accuracy: 0.7515 - loss: 12.4365 - val_accuracy: 0.9022 - val_loss: 1.5719\n",
      "Epoch 2/40\n",
      "\u001b[1m110/110\u001b[0m \u001b[32m━━━━━━━━━━━━━━━━━━━━\u001b[0m\u001b[37m\u001b[0m \u001b[1m7s\u001b[0m 43ms/step - accuracy: 0.8664 - loss: 3.5774 - val_accuracy: 0.9107 - val_loss: 1.3131\n",
      "Epoch 3/40\n",
      "\u001b[1m110/110\u001b[0m \u001b[32m━━━━━━━━━━━━━━━━━━━━\u001b[0m\u001b[37m\u001b[0m \u001b[1m4s\u001b[0m 32ms/step - accuracy: 0.9089 - loss: 1.0662 - val_accuracy: 0.8948 - val_loss: 0.8297\n",
      "Epoch 4/40\n",
      "\u001b[1m110/110\u001b[0m \u001b[32m━━━━━━━━━━━━━━━━━━━━\u001b[0m\u001b[37m\u001b[0m \u001b[1m6s\u001b[0m 38ms/step - accuracy: 0.9003 - loss: 1.6841 - val_accuracy: 0.9522 - val_loss: 0.9690\n",
      "Epoch 5/40\n",
      "\u001b[1m110/110\u001b[0m \u001b[32m━━━━━━━━━━━━━━━━━━━━\u001b[0m\u001b[37m\u001b[0m \u001b[1m6s\u001b[0m 32ms/step - accuracy: 0.9205 - loss: 0.7958 - val_accuracy: 0.9499 - val_loss: 0.8764\n",
      "Epoch 6/40\n",
      "\u001b[1m110/110\u001b[0m \u001b[32m━━━━━━━━━━━━━━━━━━━━\u001b[0m\u001b[37m\u001b[0m \u001b[1m4s\u001b[0m 34ms/step - accuracy: 0.9400 - loss: 0.4526 - val_accuracy: 0.9482 - val_loss: 0.8836\n",
      "Epoch 7/40\n",
      "\u001b[1m110/110\u001b[0m \u001b[32m━━━━━━━━━━━━━━━━━━━━\u001b[0m\u001b[37m\u001b[0m \u001b[1m6s\u001b[0m 38ms/step - accuracy: 0.9369 - loss: 0.4733 - val_accuracy: 0.9636 - val_loss: 0.2522\n",
      "Epoch 8/40\n",
      "\u001b[1m110/110\u001b[0m \u001b[32m━━━━━━━━━━━━━━━━━━━━\u001b[0m\u001b[37m\u001b[0m \u001b[1m4s\u001b[0m 22ms/step - accuracy: 0.9549 - loss: 0.3482 - val_accuracy: 0.9642 - val_loss: 0.4418\n",
      "Epoch 9/40\n",
      "\u001b[1m110/110\u001b[0m \u001b[32m━━━━━━━━━━━━━━━━━━━━\u001b[0m\u001b[37m\u001b[0m \u001b[1m5s\u001b[0m 37ms/step - accuracy: 0.9540 - loss: 0.3251 - val_accuracy: 0.9608 - val_loss: 0.3997\n",
      "Epoch 10/40\n",
      "\u001b[1m110/110\u001b[0m \u001b[32m━━━━━━━━━━━━━━━━━━━━\u001b[0m\u001b[37m\u001b[0m \u001b[1m6s\u001b[0m 33ms/step - accuracy: 0.9644 - loss: 0.2580 - val_accuracy: 0.9613 - val_loss: 0.5308\n",
      "Epoch 11/40\n",
      "\u001b[1m110/110\u001b[0m \u001b[32m━━━━━━━━━━━━━━━━━━━━\u001b[0m\u001b[37m\u001b[0m \u001b[1m6s\u001b[0m 42ms/step - accuracy: 0.9617 - loss: 0.2186 - val_accuracy: 0.9681 - val_loss: 0.3264\n",
      "Epoch 12/40\n",
      "\u001b[1m110/110\u001b[0m \u001b[32m━━━━━━━━━━━━━━━━━━━━\u001b[0m\u001b[37m\u001b[0m \u001b[1m7s\u001b[0m 52ms/step - accuracy: 0.9544 - loss: 0.3264 - val_accuracy: 0.9630 - val_loss: 0.1933\n",
      "Epoch 13/40\n",
      "\u001b[1m110/110\u001b[0m \u001b[32m━━━━━━━━━━━━━━━━━━━━\u001b[0m\u001b[37m\u001b[0m \u001b[1m2s\u001b[0m 11ms/step - accuracy: 0.9641 - loss: 0.2104 - val_accuracy: 0.9590 - val_loss: 0.1935\n",
      "Epoch 14/40\n",
      "\u001b[1m110/110\u001b[0m \u001b[32m━━━━━━━━━━━━━━━━━━━━\u001b[0m\u001b[37m\u001b[0m \u001b[1m1s\u001b[0m 10ms/step - accuracy: 0.9610 - loss: 0.2468 - val_accuracy: 0.9716 - val_loss: 0.2518\n",
      "Epoch 15/40\n",
      "\u001b[1m110/110\u001b[0m \u001b[32m━━━━━━━━━━━━━━━━━━━━\u001b[0m\u001b[37m\u001b[0m \u001b[1m2s\u001b[0m 12ms/step - accuracy: 0.9683 - loss: 0.2373 - val_accuracy: 0.9755 - val_loss: 0.2247\n",
      "Epoch 16/40\n",
      "\u001b[1m110/110\u001b[0m \u001b[32m━━━━━━━━━━━━━━━━━━━━\u001b[0m\u001b[37m\u001b[0m \u001b[1m2s\u001b[0m 15ms/step - accuracy: 0.9701 - loss: 0.1250 - val_accuracy: 0.9556 - val_loss: 0.2331\n",
      "Epoch 17/40\n",
      "\u001b[1m110/110\u001b[0m \u001b[32m━━━━━━━━━━━━━━━━━━━━\u001b[0m\u001b[37m\u001b[0m \u001b[1m2s\u001b[0m 15ms/step - accuracy: 0.9663 - loss: 0.1992 - val_accuracy: 0.9784 - val_loss: 0.3327\n",
      "Epoch 18/40\n",
      "\u001b[1m110/110\u001b[0m \u001b[32m━━━━━━━━━━━━━━━━━━━━\u001b[0m\u001b[37m\u001b[0m \u001b[1m3s\u001b[0m 11ms/step - accuracy: 0.9770 - loss: 0.1139 - val_accuracy: 0.9818 - val_loss: 0.2025\n",
      "Epoch 19/40\n",
      "\u001b[1m110/110\u001b[0m \u001b[32m━━━━━━━━━━━━━━━━━━━━\u001b[0m\u001b[37m\u001b[0m \u001b[1m2s\u001b[0m 11ms/step - accuracy: 0.9725 - loss: 0.1273 - val_accuracy: 0.9687 - val_loss: 0.4201\n",
      "Epoch 20/40\n",
      "\u001b[1m110/110\u001b[0m \u001b[32m━━━━━━━━━━━━━━━━━━━━\u001b[0m\u001b[37m\u001b[0m \u001b[1m2s\u001b[0m 17ms/step - accuracy: 0.9691 - loss: 0.2025 - val_accuracy: 0.9494 - val_loss: 0.2995\n",
      "Epoch 21/40\n",
      "\u001b[1m110/110\u001b[0m \u001b[32m━━━━━━━━━━━━━━━━━━━━\u001b[0m\u001b[37m\u001b[0m \u001b[1m5s\u001b[0m 33ms/step - accuracy: 0.9546 - loss: 0.2951 - val_accuracy: 0.9733 - val_loss: 0.2133\n",
      "Epoch 22/40\n",
      "\u001b[1m110/110\u001b[0m \u001b[32m━━━━━━━━━━━━━━━━━━━━\u001b[0m\u001b[37m\u001b[0m \u001b[1m5s\u001b[0m 22ms/step - accuracy: 0.9733 - loss: 0.1282 - val_accuracy: 0.9733 - val_loss: 0.2449\n",
      "Epoch 23/40\n",
      "\u001b[1m110/110\u001b[0m \u001b[32m━━━━━━━━━━━━━━━━━━━━\u001b[0m\u001b[37m\u001b[0m \u001b[1m5s\u001b[0m 30ms/step - accuracy: 0.9797 - loss: 0.1097 - val_accuracy: 0.9795 - val_loss: 0.1977\n",
      "Epoch 24/40\n",
      "\u001b[1m110/110\u001b[0m \u001b[32m━━━━━━━━━━━━━━━━━━━━\u001b[0m\u001b[37m\u001b[0m \u001b[1m3s\u001b[0m 20ms/step - accuracy: 0.9849 - loss: 0.0465 - val_accuracy: 0.9790 - val_loss: 0.0789\n",
      "Epoch 25/40\n",
      "\u001b[1m110/110\u001b[0m \u001b[32m━━━━━━━━━━━━━━━━━━━━\u001b[0m\u001b[37m\u001b[0m \u001b[1m2s\u001b[0m 12ms/step - accuracy: 0.9778 - loss: 0.1191 - val_accuracy: 0.9716 - val_loss: 0.9190\n",
      "Epoch 26/40\n",
      "\u001b[1m110/110\u001b[0m \u001b[32m━━━━━━━━━━━━━━━━━━━━\u001b[0m\u001b[37m\u001b[0m \u001b[1m5s\u001b[0m 37ms/step - accuracy: 0.9631 - loss: 0.3676 - val_accuracy: 0.9755 - val_loss: 0.1103\n",
      "Epoch 27/40\n",
      "\u001b[1m110/110\u001b[0m \u001b[32m━━━━━━━━━━━━━━━━━━━━\u001b[0m\u001b[37m\u001b[0m \u001b[1m8s\u001b[0m 50ms/step - accuracy: 0.9755 - loss: 0.1192 - val_accuracy: 0.9755 - val_loss: 0.1714\n",
      "Epoch 28/40\n",
      "\u001b[1m110/110\u001b[0m \u001b[32m━━━━━━━━━━━━━━━━━━━━\u001b[0m\u001b[37m\u001b[0m \u001b[1m9s\u001b[0m 74ms/step - accuracy: 0.9785 - loss: 0.0826 - val_accuracy: 0.9863 - val_loss: 0.1311\n",
      "Epoch 29/40\n",
      "\u001b[1m110/110\u001b[0m \u001b[32m━━━━━━━━━━━━━━━━━━━━\u001b[0m\u001b[37m\u001b[0m \u001b[1m7s\u001b[0m 16ms/step - accuracy: 0.9866 - loss: 0.0445 - val_accuracy: 0.9784 - val_loss: 0.2630\n",
      "Epoch 30/40\n",
      "\u001b[1m110/110\u001b[0m \u001b[32m━━━━━━━━━━━━━━━━━━━━\u001b[0m\u001b[37m\u001b[0m \u001b[1m3s\u001b[0m 12ms/step - accuracy: 0.9850 - loss: 0.0583 - val_accuracy: 0.9863 - val_loss: 0.1172\n",
      "Epoch 31/40\n",
      "\u001b[1m110/110\u001b[0m \u001b[32m━━━━━━━━━━━━━━━━━━━━\u001b[0m\u001b[37m\u001b[0m \u001b[1m1s\u001b[0m 10ms/step - accuracy: 0.9845 - loss: 0.0607 - val_accuracy: 0.9727 - val_loss: 0.3796\n",
      "Epoch 32/40\n",
      "\u001b[1m110/110\u001b[0m \u001b[32m━━━━━━━━━━━━━━━━━━━━\u001b[0m\u001b[37m\u001b[0m \u001b[1m1s\u001b[0m 9ms/step - accuracy: 0.9757 - loss: 0.1285 - val_accuracy: 0.9511 - val_loss: 0.2555\n",
      "Epoch 33/40\n",
      "\u001b[1m110/110\u001b[0m \u001b[32m━━━━━━━━━━━━━━━━━━━━\u001b[0m\u001b[37m\u001b[0m \u001b[1m3s\u001b[0m 24ms/step - accuracy: 0.9641 - loss: 0.1625 - val_accuracy: 0.9795 - val_loss: 0.0962\n",
      "Epoch 34/40\n",
      "\u001b[1m110/110\u001b[0m \u001b[32m━━━━━━━━━━━━━━━━━━━━\u001b[0m\u001b[37m\u001b[0m \u001b[1m2s\u001b[0m 10ms/step - accuracy: 0.9803 - loss: 0.0646 - val_accuracy: 0.9790 - val_loss: 0.2062\n",
      "Epoch 35/40\n",
      "\u001b[1m110/110\u001b[0m \u001b[32m━━━━━━━━━━━━━━━━━━━━\u001b[0m\u001b[37m\u001b[0m \u001b[1m1s\u001b[0m 9ms/step - accuracy: 0.9735 - loss: 0.2342 - val_accuracy: 0.9727 - val_loss: 0.1365\n",
      "Epoch 36/40\n",
      "\u001b[1m110/110\u001b[0m \u001b[32m━━━━━━━━━━━━━━━━━━━━\u001b[0m\u001b[37m\u001b[0m \u001b[1m2s\u001b[0m 11ms/step - accuracy: 0.9774 - loss: 0.0875 - val_accuracy: 0.9841 - val_loss: 0.1297\n",
      "Epoch 37/40\n",
      "\u001b[1m110/110\u001b[0m \u001b[32m━━━━━━━━━━━━━━━━━━━━\u001b[0m\u001b[37m\u001b[0m \u001b[1m1s\u001b[0m 9ms/step - accuracy: 0.9892 - loss: 0.0589 - val_accuracy: 0.9778 - val_loss: 0.1023\n",
      "Epoch 38/40\n",
      "\u001b[1m110/110\u001b[0m \u001b[32m━━━━━━━━━━━━━━━━━━━━\u001b[0m\u001b[37m\u001b[0m \u001b[1m1s\u001b[0m 9ms/step - accuracy: 0.9853 - loss: 0.0532 - val_accuracy: 0.9818 - val_loss: 0.1893\n",
      "Epoch 39/40\n",
      "\u001b[1m110/110\u001b[0m \u001b[32m━━━━━━━━━━━━━━━━━━━━\u001b[0m\u001b[37m\u001b[0m \u001b[1m2s\u001b[0m 10ms/step - accuracy: 0.9849 - loss: 0.0603 - val_accuracy: 0.9846 - val_loss: 0.1754\n",
      "Epoch 40/40\n",
      "\u001b[1m110/110\u001b[0m \u001b[32m━━━━━━━━━━━━━━━━━━━━\u001b[0m\u001b[37m\u001b[0m \u001b[1m8s\u001b[0m 74ms/step - accuracy: 0.9861 - loss: 0.0646 - val_accuracy: 0.9801 - val_loss: 0.0738\n",
      "Epoch 37/40\n",
      "\u001b[1m110/110\u001b[0m \u001b[32m━━━━━━━━━━━━━━━━━━━━\u001b[0m\u001b[37m\u001b[0m \u001b[1m4s\u001b[0m 11ms/step - accuracy: 0.9874 - loss: 0.0455 - val_accuracy: 0.9886 - val_loss: 0.0610\n",
      "Epoch 38/40\n",
      "\u001b[1m110/110\u001b[0m \u001b[32m━━━━━━━━━━━━━━━━━━━━\u001b[0m\u001b[37m\u001b[0m \u001b[1m2s\u001b[0m 16ms/step - accuracy: 0.9913 - loss: 0.0257 - val_accuracy: 0.9881 - val_loss: 0.0615\n",
      "Epoch 39/40\n",
      "\u001b[1m110/110\u001b[0m \u001b[32m━━━━━━━━━━━━━━━━━━━━\u001b[0m\u001b[37m\u001b[0m \u001b[1m3s\u001b[0m 13ms/step - accuracy: 0.9954 - loss: 0.0192 - val_accuracy: 0.9909 - val_loss: 0.0627\n",
      "Epoch 40/40\n",
      "\u001b[1m110/110\u001b[0m \u001b[32m━━━━━━━━━━━━━━━━━━━━\u001b[0m\u001b[37m\u001b[0m \u001b[1m2s\u001b[0m 17ms/step - accuracy: 0.9937 - loss: 0.0172 - val_accuracy: 0.9863 - val_loss: 0.0694\n",
      "\u001b[1m55/55\u001b[0m \u001b[32m━━━━━━━━━━━━━━━━━━━━\u001b[0m\u001b[37m\u001b[0m \u001b[1m0s\u001b[0m 3ms/step - accuracy: 0.9863 - loss: 0.1026\n",
      "Test Accuracy: 0.9863\n",
      "Epoch 1/40\n",
      "\u001b[1m110/110\u001b[0m \u001b[32m━━━━━━━━━━━━━━━━━━━━\u001b[0m\u001b[37m\u001b[0m \u001b[1m13s\u001b[0m 27ms/step - accuracy: 0.6932 - loss: 8.5823 - val_accuracy: 0.9056 - val_loss: 2.0032\n",
      "Epoch 2/40\n",
      "\u001b[1m110/110\u001b[0m \u001b[32m━━━━━━━━━━━━━━━━━━━━\u001b[0m\u001b[37m\u001b[0m \u001b[1m4s\u001b[0m 15ms/step - accuracy: 0.8968 - loss: 2.0588 - val_accuracy: 0.9078 - val_loss: 1.0433\n",
      "Epoch 3/40\n",
      "\u001b[1m110/110\u001b[0m \u001b[32m━━━━━━━━━━━━━━━━━━━━\u001b[0m\u001b[37m\u001b[0m \u001b[1m4s\u001b[0m 15ms/step - accuracy: 0.9177 - loss: 2.1212 - val_accuracy: 0.9477 - val_loss: 0.9006\n",
      "Epoch 4/40\n",
      "\u001b[1m110/110\u001b[0m \u001b[32m━━━━━━━━━━━━━━━━━━━━\u001b[0m\u001b[37m\u001b[0m \u001b[1m3s\u001b[0m 15ms/step - accuracy: 0.9517 - loss: 0.6052 - val_accuracy: 0.9346 - val_loss: 1.7031\n",
      "Epoch 5/40\n",
      "\u001b[1m110/110\u001b[0m \u001b[32m━━━━━━━━━━━━━━━━━━━━\u001b[0m\u001b[37m\u001b[0m \u001b[1m8s\u001b[0m 58ms/step - accuracy: 0.9496 - loss: 0.7560 - val_accuracy: 0.9790 - val_loss: 0.2966\n",
      "Epoch 6/40\n",
      "\u001b[1m110/110\u001b[0m \u001b[32m━━━━━━━━━━━━━━━━━━━━\u001b[0m\u001b[37m\u001b[0m \u001b[1m2s\u001b[0m 15ms/step - accuracy: 0.9692 - loss: 0.2073 - val_accuracy: 0.9670 - val_loss: 0.4456\n",
      "Epoch 7/40\n",
      "\u001b[1m110/110\u001b[0m \u001b[32m━━━━━━━━━━━━━━━━━━━━\u001b[0m\u001b[37m\u001b[0m \u001b[1m4s\u001b[0m 22ms/step - accuracy: 0.9559 - loss: 0.5095 - val_accuracy: 0.9334 - val_loss: 0.7656\n",
      "Epoch 8/40\n",
      "\u001b[1m110/110\u001b[0m \u001b[32m━━━━━━━━━━━━━━━━━━━━\u001b[0m\u001b[37m\u001b[0m \u001b[1m5s\u001b[0m 34ms/step - accuracy: 0.9723 - loss: 0.2791 - val_accuracy: 0.9795 - val_loss: 0.1884\n",
      "Epoch 9/40\n",
      "\u001b[1m110/110\u001b[0m \u001b[32m━━━━━━━━━━━━━━━━━━━━\u001b[0m\u001b[37m\u001b[0m \u001b[1m5s\u001b[0m 20ms/step - accuracy: 0.9783 - loss: 0.2439 - val_accuracy: 0.9835 - val_loss: 0.0888\n",
      "Epoch 10/40\n",
      "\u001b[1m110/110\u001b[0m \u001b[32m━━━━━━━━━━━━━━━━━━━━\u001b[0m\u001b[37m\u001b[0m \u001b[1m3s\u001b[0m 15ms/step - accuracy: 0.9749 - loss: 0.1828 - val_accuracy: 0.9869 - val_loss: 0.0826\n",
      "Epoch 11/40\n",
      "\u001b[1m110/110\u001b[0m \u001b[32m━━━━━━━━━━━━━━━━━━━━\u001b[0m\u001b[37m\u001b[0m \u001b[1m5s\u001b[0m 49ms/step - accuracy: 0.9871 - loss: 0.0413 - val_accuracy: 0.9807 - val_loss: 0.0975\n",
      "Epoch 12/40\n",
      "\u001b[1m110/110\u001b[0m \u001b[32m━━━━━━━━━━━━━━━━━━━━\u001b[0m\u001b[37m\u001b[0m \u001b[1m5s\u001b[0m 40ms/step - accuracy: 0.9729 - loss: 0.1695 - val_accuracy: 0.9863 - val_loss: 0.0511\n",
      "Epoch 13/40\n",
      "\u001b[1m110/110\u001b[0m \u001b[32m━━━━━━━━━━━━━━━━━━━━\u001b[0m\u001b[37m\u001b[0m \u001b[1m2s\u001b[0m 18ms/step - accuracy: 0.9854 - loss: 0.0596 - val_accuracy: 0.9886 - val_loss: 0.0339\n",
      "Epoch 14/40\n",
      "\u001b[1m110/110\u001b[0m \u001b[32m━━━━━━━━━━━━━━━━━━━━\u001b[0m\u001b[37m\u001b[0m \u001b[1m3s\u001b[0m 14ms/step - accuracy: 0.9910 - loss: 0.0339 - val_accuracy: 0.9801 - val_loss: 0.1163\n",
      "Epoch 15/40\n",
      "\u001b[1m110/110\u001b[0m \u001b[32m━━━━━━━━━━━━━━━━━━━━\u001b[0m\u001b[37m\u001b[0m \u001b[1m3s\u001b[0m 13ms/step - accuracy: 0.9800 - loss: 0.1387 - val_accuracy: 0.9625 - val_loss: 0.3234\n",
      "Epoch 16/40\n",
      "\u001b[1m110/110\u001b[0m \u001b[32m━━━━━━━━━━━━━━━━━━━━\u001b[0m\u001b[37m\u001b[0m \u001b[1m3s\u001b[0m 23ms/step - accuracy: 0.9760 - loss: 0.1737 - val_accuracy: 0.9846 - val_loss: 0.0613\n",
      "Epoch 17/40\n",
      "\u001b[1m110/110\u001b[0m \u001b[32m━━━━━━━━━━━━━━━━━━━━\u001b[0m\u001b[37m\u001b[0m \u001b[1m2s\u001b[0m 14ms/step - accuracy: 0.9878 - loss: 0.0578 - val_accuracy: 0.9892 - val_loss: 0.0419\n",
      "Epoch 18/40\n",
      "\u001b[1m110/110\u001b[0m \u001b[32m━━━━━━━━━━━━━━━━━━━━\u001b[0m\u001b[37m\u001b[0m \u001b[1m1s\u001b[0m 13ms/step - accuracy: 0.9914 - loss: 0.0310 - val_accuracy: 0.9835 - val_loss: 0.0521\n",
      "Epoch 19/40\n",
      "\u001b[1m110/110\u001b[0m \u001b[32m━━━━━━━━━━━━━━━━━━━━\u001b[0m\u001b[37m\u001b[0m \u001b[1m2s\u001b[0m 13ms/step - accuracy: 0.9894 - loss: 0.0304 - val_accuracy: 0.9875 - val_loss: 0.0670\n",
      "Epoch 20/40\n",
      "\u001b[1m110/110\u001b[0m \u001b[32m━━━━━━━━━━━━━━━━━━━━\u001b[0m\u001b[37m\u001b[0m \u001b[1m2s\u001b[0m 16ms/step - accuracy: 0.9893 - loss: 0.0555 - val_accuracy: 0.9846 - val_loss: 0.0892\n",
      "Epoch 21/40\n",
      "\u001b[1m110/110\u001b[0m \u001b[32m━━━━━━━━━━━━━━━━━━━━\u001b[0m\u001b[37m\u001b[0m \u001b[1m3s\u001b[0m 13ms/step - accuracy: 0.9861 - loss: 0.0861 - val_accuracy: 0.9863 - val_loss: 0.0334\n",
      "Epoch 22/40\n",
      "\u001b[1m110/110\u001b[0m \u001b[32m━━━━━━━━━━━━━━━━━━━━\u001b[0m\u001b[37m\u001b[0m \u001b[1m9s\u001b[0m 78ms/step - accuracy: 0.9886 - loss: 0.0376 - val_accuracy: 0.9778 - val_loss: 0.0813\n",
      "Epoch 23/40\n",
      "\u001b[1m110/110\u001b[0m \u001b[32m━━━━━━━━━━━━━━━━━━━━\u001b[0m\u001b[37m\u001b[0m \u001b[1m19s\u001b[0m 109ms/step - accuracy: 0.9774 - loss: 0.1032 - val_accuracy: 0.9807 - val_loss: 0.0791\n",
      "Epoch 24/40\n",
      "\u001b[1m110/110\u001b[0m \u001b[32m━━━━━━━━━━━━━━━━━━━━\u001b[0m\u001b[37m\u001b[0m \u001b[1m22s\u001b[0m 172ms/step - accuracy: 0.9837 - loss: 0.0989 - val_accuracy: 0.9704 - val_loss: 0.1939\n",
      "Epoch 25/40\n",
      "\u001b[1m110/110\u001b[0m \u001b[32m━━━━━━━━━━━━━━━━━━━━\u001b[0m\u001b[37m\u001b[0m \u001b[1m14s\u001b[0m 72ms/step - accuracy: 0.9811 - loss: 0.1014 - val_accuracy: 0.9892 - val_loss: 0.0319\n",
      "Epoch 26/40\n",
      "\u001b[1m110/110\u001b[0m \u001b[32m━━━━━━━━━━━━━━━━━━━━\u001b[0m\u001b[37m\u001b[0m \u001b[1m9s\u001b[0m 79ms/step - accuracy: 0.9896 - loss: 0.0407 - val_accuracy: 0.9892 - val_loss: 0.0428\n",
      "Epoch 27/40\n",
      "\u001b[1m110/110\u001b[0m \u001b[32m━━━━━━━━━━━━━━━━━━━━\u001b[0m\u001b[37m\u001b[0m \u001b[1m11s\u001b[0m 80ms/step - accuracy: 0.9918 - loss: 0.0253 - val_accuracy: 0.9693 - val_loss: 0.0767\n",
      "Epoch 28/40\n",
      "\u001b[1m110/110\u001b[0m \u001b[32m━━━━━━━━━━━━━━━━━━━━\u001b[0m\u001b[37m\u001b[0m \u001b[1m7s\u001b[0m 63ms/step - accuracy: 0.9856 - loss: 0.0430 - val_accuracy: 0.9892 - val_loss: 0.0483\n",
      "Epoch 29/40\n",
      "\u001b[1m110/110\u001b[0m \u001b[32m━━━━━━━━━━━━━━━━━━━━\u001b[0m\u001b[37m\u001b[0m \u001b[1m13s\u001b[0m 75ms/step - accuracy: 0.9906 - loss: 0.0267 - val_accuracy: 0.9898 - val_loss: 0.0302\n",
      "Epoch 30/40\n",
      "\u001b[1m110/110\u001b[0m \u001b[32m━━━━━━━━━━━━━━━━━━━━\u001b[0m\u001b[37m\u001b[0m \u001b[1m12s\u001b[0m 87ms/step - accuracy: 0.9930 - loss: 0.0186 - val_accuracy: 0.9869 - val_loss: 0.0392\n",
      "Epoch 31/40\n",
      "\u001b[1m110/110\u001b[0m \u001b[32m━━━━━━━━━━━━━━━━━━━━\u001b[0m\u001b[37m\u001b[0m \u001b[1m8s\u001b[0m 64ms/step - accuracy: 0.9939 - loss: 0.0181 - val_accuracy: 0.9869 - val_loss: 0.0429\n",
      "Epoch 32/40\n",
      "\u001b[1m110/110\u001b[0m \u001b[32m━━━━━━━━━━━━━━━━━━━━\u001b[0m\u001b[37m\u001b[0m \u001b[1m13s\u001b[0m 86ms/step - accuracy: 0.9962 - loss: 0.0125 - val_accuracy: 0.9881 - val_loss: 0.0297\n",
      "Epoch 33/40\n",
      "\u001b[1m110/110\u001b[0m \u001b[32m━━━━━━━━━━━━━━━━━━━━\u001b[0m\u001b[37m\u001b[0m \u001b[1m16s\u001b[0m 102ms/step - accuracy: 0.9947 - loss: 0.0141 - val_accuracy: 0.9898 - val_loss: 0.0314\n",
      "Epoch 34/40\n",
      "\u001b[1m110/110\u001b[0m \u001b[32m━━━━━━━━━━━━━━━━━━━━\u001b[0m\u001b[37m\u001b[0m \u001b[1m12s\u001b[0m 77ms/step - accuracy: 0.9950 - loss: 0.0191 - val_accuracy: 0.9909 - val_loss: 0.0272\n",
      "Epoch 35/40\n",
      "\u001b[1m110/110\u001b[0m \u001b[32m━━━━━━━━━━━━━━━━━━━━\u001b[0m\u001b[37m\u001b[0m \u001b[1m12s\u001b[0m 90ms/step - accuracy: 0.9941 - loss: 0.0162 - val_accuracy: 0.9869 - val_loss: 0.0302\n",
      "Epoch 36/40\n",
      "\u001b[1m110/110\u001b[0m \u001b[32m━━━━━━━━━━━━━━━━━━━━\u001b[0m\u001b[37m\u001b[0m \u001b[1m9s\u001b[0m 76ms/step - accuracy: 0.9915 - loss: 0.0232 - val_accuracy: 0.9898 - val_loss: 0.0324\n",
      "Epoch 37/40\n",
      "\u001b[1m110/110\u001b[0m \u001b[32m━━━━━━━━━━━━━━━━━━━━\u001b[0m\u001b[37m\u001b[0m \u001b[1m5s\u001b[0m 24ms/step - accuracy: 0.9924 - loss: 0.0255 - val_accuracy: 0.9898 - val_loss: 0.0322\n",
      "Epoch 38/40\n",
      "\u001b[1m110/110\u001b[0m \u001b[32m━━━━━━━━━━━━━━━━━━━━\u001b[0m\u001b[37m\u001b[0m \u001b[1m6s\u001b[0m 52ms/step - accuracy: 0.9951 - loss: 0.0165 - val_accuracy: 0.9858 - val_loss: 0.1070\n",
      "Epoch 39/40\n",
      "\u001b[1m110/110\u001b[0m \u001b[32m━━━━━━━━━━━━━━━━━━━━\u001b[0m\u001b[37m\u001b[0m \u001b[1m6s\u001b[0m 46ms/step - accuracy: 0.9906 - loss: 0.0410 - val_accuracy: 0.9898 - val_loss: 0.0367\n",
      "Epoch 40/40\n",
      "\u001b[1m110/110\u001b[0m \u001b[32m━━━━━━━━━━━━━━━━━━━━\u001b[0m\u001b[37m\u001b[0m \u001b[1m4s\u001b[0m 33ms/step - accuracy: 0.9925 - loss: 0.0254 - val_accuracy: 0.9863 - val_loss: 0.0390\n",
      "\u001b[1m55/55\u001b[0m \u001b[32m━━━━━━━━━━━━━━━━━━━━\u001b[0m\u001b[37m\u001b[0m \u001b[1m0s\u001b[0m 3ms/step - accuracy: 0.9867 - loss: 0.0394\n",
      "Test Accuracy: 0.9863\n",
      "Epoch 1/40\n",
      "\u001b[1m110/110\u001b[0m \u001b[32m━━━━━━━━━━━━━━━━━━━━\u001b[0m\u001b[37m\u001b[0m \u001b[1m12s\u001b[0m 17ms/step - accuracy: 0.6915 - loss: 11.0168 - val_accuracy: 0.9226 - val_loss: 2.0862\n",
      "Epoch 2/40\n",
      "\u001b[1m110/110\u001b[0m \u001b[32m━━━━━━━━━━━━━━━━━━━━\u001b[0m\u001b[37m\u001b[0m \u001b[1m5s\u001b[0m 42ms/step - accuracy: 0.8979 - loss: 1.7753 - val_accuracy: 0.8908 - val_loss: 2.5185\n",
      "Epoch 3/40\n",
      "\u001b[1m110/110\u001b[0m \u001b[32m━━━━━━━━━━━━━━━━━━━━\u001b[0m\u001b[37m\u001b[0m \u001b[1m3s\u001b[0m 20ms/step - accuracy: 0.9232 - loss: 1.1374 - val_accuracy: 0.9181 - val_loss: 1.5974\n",
      "Epoch 4/40\n",
      "\u001b[1m110/110\u001b[0m \u001b[32m━━━━━━━━━━━━━━━━━━━━\u001b[0m\u001b[37m\u001b[0m \u001b[1m3s\u001b[0m 17ms/step - accuracy: 0.9413 - loss: 0.7478 - val_accuracy: 0.9738 - val_loss: 0.2408\n",
      "Epoch 5/40\n",
      "\u001b[1m110/110\u001b[0m \u001b[32m━━━━━━━━━━━━━━━━━━━━\u001b[0m\u001b[37m\u001b[0m \u001b[1m5s\u001b[0m 30ms/step - accuracy: 0.9641 - loss: 0.6349 - val_accuracy: 0.9562 - val_loss: 0.5864\n",
      "Epoch 6/40\n",
      "\u001b[1m110/110\u001b[0m \u001b[32m━━━━━━━━━━━━━━━━━━━━\u001b[0m\u001b[37m\u001b[0m \u001b[1m4s\u001b[0m 14ms/step - accuracy: 0.9604 - loss: 0.4266 - val_accuracy: 0.9397 - val_loss: 1.6945\n",
      "Epoch 7/40\n",
      "\u001b[1m110/110\u001b[0m \u001b[32m━━━━━━━━━━━━━━━━━━━━\u001b[0m\u001b[37m\u001b[0m \u001b[1m3s\u001b[0m 16ms/step - accuracy: 0.9628 - loss: 0.4590 - val_accuracy: 0.9767 - val_loss: 0.5686\n",
      "Epoch 8/40\n",
      "\u001b[1m110/110\u001b[0m \u001b[32m━━━━━━━━━━━━━━━━━━━━\u001b[0m\u001b[37m\u001b[0m \u001b[1m3s\u001b[0m 15ms/step - accuracy: 0.9638 - loss: 0.3455 - val_accuracy: 0.9738 - val_loss: 0.2585\n",
      "Epoch 9/40\n",
      "\u001b[1m110/110\u001b[0m \u001b[32m━━━━━━━━━━━━━━━━━━━━\u001b[0m\u001b[37m\u001b[0m \u001b[1m3s\u001b[0m 15ms/step - accuracy: 0.9718 - loss: 0.1731 - val_accuracy: 0.9687 - val_loss: 0.3100\n",
      "Epoch 10/40\n",
      "\u001b[1m110/110\u001b[0m \u001b[32m━━━━━━━━━━━━━━━━━━━━\u001b[0m\u001b[37m\u001b[0m \u001b[1m2s\u001b[0m 10ms/step - accuracy: 0.9752 - loss: 0.1881 - val_accuracy: 0.9761 - val_loss: 0.1145\n",
      "Epoch 11/40\n",
      "\u001b[1m110/110\u001b[0m \u001b[32m━━━━━━━━━━━━━━━━━━━━\u001b[0m\u001b[37m\u001b[0m \u001b[1m3s\u001b[0m 21ms/step - accuracy: 0.9806 - loss: 0.1500 - val_accuracy: 0.9835 - val_loss: 0.1848\n",
      "Epoch 12/40\n",
      "\u001b[1m110/110\u001b[0m \u001b[32m━━━━━━━━━━━━━━━━━━━━\u001b[0m\u001b[37m\u001b[0m \u001b[1m5s\u001b[0m 33ms/step - accuracy: 0.9858 - loss: 0.0692 - val_accuracy: 0.9807 - val_loss: 0.1540\n",
      "Epoch 13/40\n",
      "\u001b[1m110/110\u001b[0m \u001b[32m━━━━━━━━━━━━━━━━━━━━\u001b[0m\u001b[37m\u001b[0m \u001b[1m2s\u001b[0m 13ms/step - accuracy: 0.9809 - loss: 0.0865 - val_accuracy: 0.9829 - val_loss: 0.1474\n",
      "Epoch 14/40\n",
      "\u001b[1m110/110\u001b[0m \u001b[32m━━━━━━━━━━━━━━━━━━━━\u001b[0m\u001b[37m\u001b[0m \u001b[1m1s\u001b[0m 11ms/step - accuracy: 0.9859 - loss: 0.0543 - val_accuracy: 0.9778 - val_loss: 0.1011\n",
      "Epoch 15/40\n",
      "\u001b[1m110/110\u001b[0m \u001b[32m━━━━━━━━━━━━━━━━━━━━\u001b[0m\u001b[37m\u001b[0m \u001b[1m1s\u001b[0m 12ms/step - accuracy: 0.9869 - loss: 0.0514 - val_accuracy: 0.9801 - val_loss: 0.1474\n",
      "Epoch 16/40\n",
      "\u001b[1m110/110\u001b[0m \u001b[32m━━━━━━━━━━━━━━━━━━━━\u001b[0m\u001b[37m\u001b[0m \u001b[1m4s\u001b[0m 31ms/step - accuracy: 0.9858 - loss: 0.0448 - val_accuracy: 0.9710 - val_loss: 0.1302\n",
      "Epoch 17/40\n",
      "\u001b[1m110/110\u001b[0m \u001b[32m━━━━━━━━━━━━━━━━━━━━\u001b[0m\u001b[37m\u001b[0m \u001b[1m2s\u001b[0m 11ms/step - accuracy: 0.9796 - loss: 0.1238 - val_accuracy: 0.9824 - val_loss: 0.0767\n",
      "Epoch 18/40\n",
      "\u001b[1m110/110\u001b[0m \u001b[32m━━━━━━━━━━━━━━━━━━━━\u001b[0m\u001b[37m\u001b[0m \u001b[1m5s\u001b[0m 36ms/step - accuracy: 0.9829 - loss: 0.0673 - val_accuracy: 0.9846 - val_loss: 0.0532\n",
      "Epoch 19/40\n",
      "\u001b[1m110/110\u001b[0m \u001b[32m━━━━━━━━━━━━━━━━━━━━\u001b[0m\u001b[37m\u001b[0m \u001b[1m3s\u001b[0m 15ms/step - accuracy: 0.9536 - loss: 0.4760 - val_accuracy: 0.9528 - val_loss: 0.4664\n",
      "Epoch 6/40\n",
      "\u001b[1m110/110\u001b[0m \u001b[32m━━━━━━━━━━━━━━━━━━━━\u001b[0m\u001b[37m\u001b[0m \u001b[1m3s\u001b[0m 15ms/step - accuracy: 0.9591 - loss: 0.4974 - val_accuracy: 0.9710 - val_loss: 0.4425\n",
      "Epoch 7/40\n",
      "\u001b[1m110/110\u001b[0m \u001b[32m━━━━━━━━━━━━━━━━━━━━\u001b[0m\u001b[37m\u001b[0m \u001b[1m4s\u001b[0m 23ms/step - accuracy: 0.9652 - loss: 0.3822 - val_accuracy: 0.9664 - val_loss: 0.4400\n",
      "Epoch 8/40\n",
      "\u001b[1m110/110\u001b[0m \u001b[32m━━━━━━━━━━━━━━━━━━━━\u001b[0m\u001b[37m\u001b[0m \u001b[1m4s\u001b[0m 14ms/step - accuracy: 0.9608 - loss: 0.6507 - val_accuracy: 0.9619 - val_loss: 0.1844\n",
      "Epoch 9/40\n",
      "\u001b[1m110/110\u001b[0m \u001b[32m━━━━━━━━━━━━━━━━━━━━\u001b[0m\u001b[37m\u001b[0m \u001b[1m4s\u001b[0m 28ms/step - accuracy: 0.9716 - loss: 0.1674 - val_accuracy: 0.9693 - val_loss: 0.4034\n",
      "Epoch 10/40\n",
      "\u001b[1m110/110\u001b[0m \u001b[32m━━━━━━━━━━━━━━━━━━━━\u001b[0m\u001b[37m\u001b[0m \u001b[1m4s\u001b[0m 16ms/step - accuracy: 0.9710 - loss: 0.2758 - val_accuracy: 0.9676 - val_loss: 0.2315\n",
      "Epoch 11/40\n",
      "\u001b[1m110/110\u001b[0m \u001b[32m━━━━━━━━━━━━━━━━━━━━\u001b[0m\u001b[37m\u001b[0m \u001b[1m4s\u001b[0m 25ms/step - accuracy: 0.9728 - loss: 0.2073 - val_accuracy: 0.9852 - val_loss: 0.1126\n",
      "Epoch 12/40\n",
      "\u001b[1m110/110\u001b[0m \u001b[32m━━━━━━━━━━━━━━━━━━━━\u001b[0m\u001b[37m\u001b[0m \u001b[1m4s\u001b[0m 24ms/step - accuracy: 0.9801 - loss: 0.1147 - val_accuracy: 0.9829 - val_loss: 0.2671\n",
      "Epoch 13/40\n",
      "\u001b[1m110/110\u001b[0m \u001b[32m━━━━━━━━━━━━━━━━━━━━\u001b[0m\u001b[37m\u001b[0m \u001b[1m6s\u001b[0m 43ms/step - accuracy: 0.9833 - loss: 0.1432 - val_accuracy: 0.9881 - val_loss: 0.0908\n",
      "Epoch 14/40\n",
      "\u001b[1m110/110\u001b[0m \u001b[32m━━━━━━━━━━━━━━━━━━━━\u001b[0m\u001b[37m\u001b[0m \u001b[1m3s\u001b[0m 28ms/step - accuracy: 0.9805 - loss: 0.1578 - val_accuracy: 0.9790 - val_loss: 0.2238\n",
      "Epoch 15/40\n",
      "\u001b[1m110/110\u001b[0m \u001b[32m━━━━━━━━━━━━━━━━━━━━\u001b[0m\u001b[37m\u001b[0m \u001b[1m4s\u001b[0m 34ms/step - accuracy: 0.9807 - loss: 0.1587 - val_accuracy: 0.9892 - val_loss: 0.0427\n",
      "Epoch 16/40\n",
      "\u001b[1m110/110\u001b[0m \u001b[32m━━━━━━━━━━━━━━━━━━━━\u001b[0m\u001b[37m\u001b[0m \u001b[1m3s\u001b[0m 13ms/step - accuracy: 0.9800 - loss: 0.1356 - val_accuracy: 0.9687 - val_loss: 0.2102\n",
      "Epoch 17/40\n",
      "\u001b[1m110/110\u001b[0m \u001b[32m━━━━━━━━━━━━━━━━━━━━\u001b[0m\u001b[37m\u001b[0m \u001b[1m5s\u001b[0m 28ms/step - accuracy: 0.9804 - loss: 0.1052 - val_accuracy: 0.9733 - val_loss: 0.1420\n",
      "Epoch 18/40\n",
      "\u001b[1m110/110\u001b[0m \u001b[32m━━━━━━━━━━━━━━━━━━━━\u001b[0m\u001b[37m\u001b[0m \u001b[1m4s\u001b[0m 27ms/step - accuracy: 0.9791 - loss: 0.0694 - val_accuracy: 0.9761 - val_loss: 0.1990\n",
      "Epoch 19/40\n",
      "\u001b[1m110/110\u001b[0m \u001b[32m━━━━━━━━━━━━━━━━━━━━\u001b[0m\u001b[37m\u001b[0m \u001b[1m5s\u001b[0m 26ms/step - accuracy: 0.9721 - loss: 0.2112 - val_accuracy: 0.9829 - val_loss: 0.1146\n",
      "Epoch 20/40\n",
      "\u001b[1m110/110\u001b[0m \u001b[32m━━━━━━━━━━━━━━━━━━━━\u001b[0m\u001b[37m\u001b[0m \u001b[1m4s\u001b[0m 14ms/step - accuracy: 0.9802 - loss: 0.1236 - val_accuracy: 0.9886 - val_loss: 0.0477\n",
      "Epoch 21/40\n",
      "\u001b[1m110/110\u001b[0m \u001b[32m━━━━━━━━━━━━━━━━━━━━\u001b[0m\u001b[37m\u001b[0m \u001b[1m6s\u001b[0m 38ms/step - accuracy: 0.9847 - loss: 0.0855 - val_accuracy: 0.9858 - val_loss: 0.0475\n",
      "Epoch 22/40\n",
      "\u001b[1m110/110\u001b[0m \u001b[32m━━━━━━━━━━━━━━━━━━━━\u001b[0m\u001b[37m\u001b[0m \u001b[1m5s\u001b[0m 16ms/step - accuracy: 0.9872 - loss: 0.0457 - val_accuracy: 0.9846 - val_loss: 0.0743\n",
      "Epoch 23/40\n",
      "\u001b[1m110/110\u001b[0m \u001b[32m━━━━━━━━━━━━━━━━━━━━\u001b[0m\u001b[37m\u001b[0m \u001b[1m6s\u001b[0m 20ms/step - accuracy: 0.9918 - loss: 0.0367 - val_accuracy: 0.9881 - val_loss: 0.0852\n",
      "Epoch 24/40\n",
      "\u001b[1m110/110\u001b[0m \u001b[32m━━━━━━━━━━━━━━━━━━━━\u001b[0m\u001b[37m\u001b[0m \u001b[1m5s\u001b[0m 32ms/step - accuracy: 0.9892 - loss: 0.0438 - val_accuracy: 0.9767 - val_loss: 0.0794\n",
      "Epoch 25/40\n",
      "\u001b[1m110/110\u001b[0m \u001b[32m━━━━━━━━━━━━━━━━━━━━\u001b[0m\u001b[37m\u001b[0m \u001b[1m5s\u001b[0m 22ms/step - accuracy: 0.9760 - loss: 0.0982 - val_accuracy: 0.9892 - val_loss: 0.0250\n",
      "Epoch 26/40\n",
      "\u001b[1m110/110\u001b[0m \u001b[32m━━━━━━━━━━━━━━━━━━━━\u001b[0m\u001b[37m\u001b[0m \u001b[1m2s\u001b[0m 12ms/step - accuracy: 0.9887 - loss: 0.0308 - val_accuracy: 0.9881 - val_loss: 0.0291\n",
      "Epoch 27/40\n",
      "\u001b[1m110/110\u001b[0m \u001b[32m━━━━━━━━━━━━━━━━━━━━\u001b[0m\u001b[37m\u001b[0m \u001b[1m2s\u001b[0m 12ms/step - accuracy: 0.9925 - loss: 0.0258 - val_accuracy: 0.9903 - val_loss: 0.0290\n",
      "Epoch 28/40\n",
      "\u001b[1m110/110\u001b[0m \u001b[32m━━━━━━━━━━━━━━━━━━━━\u001b[0m\u001b[37m\u001b[0m \u001b[1m2s\u001b[0m 18ms/step - accuracy: 0.9934 - loss: 0.0267 - val_accuracy: 0.9824 - val_loss: 0.0516\n",
      "Epoch 29/40\n",
      "\u001b[1m110/110\u001b[0m \u001b[32m━━━━━━━━━━━━━━━━━━━━\u001b[0m\u001b[37m\u001b[0m \u001b[1m2s\u001b[0m 12ms/step - accuracy: 0.9814 - loss: 0.1202 - val_accuracy: 0.9875 - val_loss: 0.0617\n",
      "Epoch 30/40\n",
      "\u001b[1m110/110\u001b[0m \u001b[32m━━━━━━━━━━━━━━━━━━━━\u001b[0m\u001b[37m\u001b[0m \u001b[1m2s\u001b[0m 14ms/step - accuracy: 0.9878 - loss: 0.0388 - val_accuracy: 0.9875 - val_loss: 0.0564\n",
      "Epoch 31/40\n",
      "\u001b[1m110/110\u001b[0m \u001b[32m━━━━━━━━━━━━━━━━━━━━\u001b[0m\u001b[37m\u001b[0m \u001b[1m10s\u001b[0m 77ms/step - accuracy: 0.9885 - loss: 0.0693 - val_accuracy: 0.9824 - val_loss: 0.0810\n",
      "Epoch 32/40\n",
      "\u001b[1m110/110\u001b[0m \u001b[32m━━━━━━━━━━━━━━━━━━━━\u001b[0m\u001b[37m\u001b[0m \u001b[1m8s\u001b[0m 47ms/step - accuracy: 0.9863 - loss: 0.0347 - val_accuracy: 0.9863 - val_loss: 0.0399\n",
      "Epoch 33/40\n",
      "\u001b[1m110/110\u001b[0m \u001b[32m━━━━━━━━━━━━━━━━━━━━\u001b[0m\u001b[37m\u001b[0m \u001b[1m3s\u001b[0m 15ms/step - accuracy: 0.9850 - loss: 0.0598 - val_accuracy: 0.9755 - val_loss: 0.1899\n",
      "Epoch 34/40\n",
      "\u001b[1m110/110\u001b[0m \u001b[32m━━━━━━━━━━━━━━━━━━━━\u001b[0m\u001b[37m\u001b[0m \u001b[1m4s\u001b[0m 26ms/step - accuracy: 0.9853 - loss: 0.0936 - val_accuracy: 0.9903 - val_loss: 0.0350\n",
      "Epoch 35/40\n",
      "\u001b[1m110/110\u001b[0m \u001b[32m━━━━━━━━━━━━━━━━━━━━\u001b[0m\u001b[37m\u001b[0m \u001b[1m5s\u001b[0m 14ms/step - accuracy: 0.9882 - loss: 0.0548 - val_accuracy: 0.9909 - val_loss: 0.0383\n",
      "Epoch 36/40\n",
      "\u001b[1m110/110\u001b[0m \u001b[32m━━━━━━━━━━━━━━━━━━━━\u001b[0m\u001b[37m\u001b[0m \u001b[1m3s\u001b[0m 10ms/step - accuracy: 0.9893 - loss: 0.0320 - val_accuracy: 0.9903 - val_loss: 0.0281\n",
      "Epoch 37/40\n",
      "\u001b[1m110/110\u001b[0m \u001b[32m━━━━━━━━━━━━━━━━━━━━\u001b[0m\u001b[37m\u001b[0m \u001b[1m3s\u001b[0m 29ms/step - accuracy: 0.9917 - loss: 0.0249 - val_accuracy: 0.9898 - val_loss: 0.0291\n",
      "Epoch 38/40\n",
      "\u001b[1m110/110\u001b[0m \u001b[32m━━━━━━━━━━━━━━━━━━━━\u001b[0m\u001b[37m\u001b[0m \u001b[1m4s\u001b[0m 27ms/step - accuracy: 0.9911 - loss: 0.0287 - val_accuracy: 0.9886 - val_loss: 0.0255\n",
      "Epoch 39/40\n",
      "\u001b[1m110/110\u001b[0m \u001b[32m━━━━━━━━━━━━━━━━━━━━\u001b[0m\u001b[37m\u001b[0m \u001b[1m6s\u001b[0m 37ms/step - accuracy: 0.9937 - loss: 0.0200 - val_accuracy: 0.9909 - val_loss: 0.0236\n",
      "Epoch 40/40\n",
      "\u001b[1m110/110\u001b[0m \u001b[32m━━━━━━━━━━━━━━━━━━━━\u001b[0m\u001b[37m\u001b[0m \u001b[1m5s\u001b[0m 23ms/step - accuracy: 0.9900 - loss: 0.0383 - val_accuracy: 0.9915 - val_loss: 0.0299\n",
      "\u001b[1m55/55\u001b[0m \u001b[32m━━━━━━━━━━━━━━━━━━━━\u001b[0m\u001b[37m\u001b[0m \u001b[1m1s\u001b[0m 10ms/step - accuracy: 0.9934 - loss: 0.0365\n",
      "Test Accuracy: 0.9915\n"
     ]
    }
   ],
   "source": [
    "pso_res = train_and_test(X_selected, y, test_size=0.2)\n",
    "pso_res_30_split = train_and_test(X_selected, y, test_size=0.3)\n",
    "pso_res_10_split = train_and_test(X_selected, y, test_size=0.1)\n",
    "\n",
    "no_pso_res = train_and_test(X, y, test_size=0.2)\n",
    "no_pso_res_30_split = train_and_test(X, y, test_size=0.3)\n",
    "no_pso_res_10_split = train_and_test(X, y, test_size=0.1)"
   ]
  },
  {
   "cell_type": "code",
   "execution_count": 15,
   "metadata": {
    "colab": {
     "base_uri": "https://localhost:8080/",
     "height": 564
    },
    "id": "9dQ6huMIT7W7",
    "outputId": "42eb6883-ba5a-41f0-c29c-519ef15be3b4"
   },
   "outputs": [
    {
     "data": {
      "image/png": "[encoded data removed]",
      "text/plain": [
       "<Figure size 1000x600 with 1 Axes>"
      ]
     },
     "metadata": {},
     "output_type": "display_data"
    }
   ],
   "source": [
    "import matplotlib.pyplot as plt\n",
    "\n",
    "# Collect test scores from each scenario\n",
    "data = [pso_res[\"accuracy\"], pso_res_30_split[\"accuracy\"], pso_res_10_split[\"accuracy\"], no_pso_res[\"accuracy\"], no_pso_res_30_split[\"accuracy\"], no_pso_res_10_split[\"accuracy\"]]\n",
    "split_ratios = [\"PSO 20% Test\", \"PSO 30% Test\", \"PSO 10% Test\", \"No PSO 20% Test\", \"No PSO 30% Test\", \"No PSO 10% Test\"]\n",
    "\n",
    "# Create a bar chart\n",
    "plt.figure(figsize=(10, 6))\n",
    "plt.barh(split_ratios, data, color='skyblue', label=\"Test Accuracy\") # Plot each category separately\n",
    "plt.xlabel('Test Accuracy')\n",
    "plt.title('Test Accuracy comparison (PSO vs. No PSO)')\n",
    "plt.gca().invert_yaxis()  # Invert y-axis to display largest split ratio at top\n",
    "plt.grid(axis='x', linestyle='--', alpha=0.6)\n",
    "plt.legend() # Add a legend\n",
    "\n",
    "# Add labels for each data point (adjusting for separate bars)\n",
    "for i, score in enumerate(data):\n",
    "    plt.text(score + 0.005, i, f\"{score:.4f}\", va='center')\n",
    "\n",
    "plt.show()"
   ]
  },
  {
   "cell_type": "code",
   "execution_count": 16,
   "metadata": {
    "id": "JVpN2l84F9-n"
   },
   "outputs": [],
   "source": [
    "X_train, X_test, y_train, y_test = train_test_split(X_selected, y, test_size=0.2, random_state=42)\n",
    "# Reshape the data for compatibility with CNN input\n",
    "X_train = X_train.reshape(X_train.shape[0], X_train.shape[1], 1)\n",
    "X_test = X_test.reshape(X_test.shape[0], X_test.shape[1], 1)"
   ]
  },
  {
   "cell_type": "code",
   "execution_count": 17,
   "metadata": {
    "colab": {
     "base_uri": "https://localhost:8080/"
    },
    "id": "mpT4d9YLGI-t",
    "outputId": "af9b68e6-3fa7-45e7-8009-b5623cc996fa"
   },
   "outputs": [
    {
     "name": "stdout",
     "output_type": "stream",
     "text": [
      "Epoch 1/10\n",
      "\u001b[1m110/110\u001b[0m \u001b[32m━━━━━━━━━━━━━━━━━━━━\u001b[0m\u001b[37m\u001b[0m \u001b[1m17s\u001b[0m 39ms/step - accuracy: 0.7641 - loss: 7.2589 - val_accuracy: 0.8845 - val_loss: 2.0363\n",
      "Epoch 2/10\n",
      "\u001b[1m110/110\u001b[0m \u001b[32m━━━━━━━━━━━━━━━━━━━━\u001b[0m\u001b[37m\u001b[0m \u001b[1m4s\u001b[0m 22ms/step - accuracy: 0.8884 - loss: 1.7486 - val_accuracy: 0.8948 - val_loss: 1.5926\n",
      "Epoch 3/10\n",
      "\u001b[1m110/110\u001b[0m \u001b[32m━━━━━━━━━━━━━━━━━━━━\u001b[0m\u001b[37m\u001b[0m \u001b[1m3s\u001b[0m 22ms/step - accuracy: 0.8933 - loss: 1.3689 - val_accuracy: 0.9192 - val_loss: 0.5998\n",
      "Epoch 4/10\n",
      "\u001b[1m110/110\u001b[0m \u001b[32m━━━━━━━━━━━━━━━━━━━━\u001b[0m\u001b[37m\u001b[0m \u001b[1m4s\u001b[0m 26ms/step - accuracy: 0.9161 - loss: 1.0035 - val_accuracy: 0.9266 - val_loss: 1.6281\n",
      "Epoch 5/10\n",
      "\u001b[1m110/110\u001b[0m \u001b[32m━━━━━━━━━━━━━━━━━━━━\u001b[0m\u001b[37m\u001b[0m \u001b[1m2s\u001b[0m 13ms/step - accuracy: 0.9450 - loss: 0.6320 - val_accuracy: 0.9676 - val_loss: 0.3745\n",
      "Epoch 6/10\n",
      "\u001b[1m110/110\u001b[0m \u001b[32m━━━━━━━━━━━━━━━━━━━━\u001b[0m\u001b[37m\u001b[0m \u001b[1m3s\u001b[0m 12ms/step - accuracy: 0.9540 - loss: 0.3600 - val_accuracy: 0.9556 - val_loss: 0.3614\n",
      "Epoch 7/10\n",
      "\u001b[1m110/110\u001b[0m \u001b[32m━━━━━━━━━━━━━━━━━━━━\u001b[0m\u001b[37m\u001b[0m \u001b[1m2s\u001b[0m 19ms/step - accuracy: 0.9575 - loss: 0.2974 - val_accuracy: 0.9619 - val_loss: 0.1832\n",
      "Epoch 8/10\n",
      "\u001b[1m110/110\u001b[0m \u001b[32m━━━━━━━━━━━━━━━━━━━━\u001b[0m\u001b[37m\u001b[0m \u001b[1m3s\u001b[0m 13ms/step - accuracy: 0.9619 - loss: 0.1572 - val_accuracy: 0.9187 - val_loss: 1.8042\n",
      "Epoch 9/10\n",
      "\u001b[1m110/110\u001b[0m \u001b[32m━━━━━━━━━━━━━━━━━━━━\u001b[0m\u001b[37m\u001b[0m \u001b[1m2s\u001b[0m 14ms/step - accuracy: 0.9452 - loss: 0.5618 - val_accuracy: 0.9608 - val_loss: 0.2326\n",
      "Epoch 10/10\n",
      "\u001b[1m110/110\u001b[0m \u001b[32m━━━━━━━━━━━━━━━━━━━━\u001b[0m\u001b[37m\u001b[0m \u001b[1m5s\u001b[0m 44ms/step - accuracy: 0.9582 - loss: 0.2852 - val_accuracy: 0.9630 - val_loss: 0.2976\n"
     ]
    },
    {
     "data": {
      "text/plain": [
       "<keras.src.callbacks.history.History at 0x24debea9950>"
      ]
     },
     "execution_count": 17,
     "metadata": {},
     "output_type": "execute_result"
    }
   ],
   "source": [
    "from keras.models import Sequential\n",
    "from keras.layers import Conv1D, MaxPooling1D, Flatten, Dense\n",
    "from keras.utils import to_categorical\n",
    "\n",
    "# Train the CNN model\n",
    "# ...\n",
    "\n",
    "# Encode target labels as one-hot vectors\n",
    "num_classes = 3\n",
    "y_train_encoded = to_categorical(y_train, num_classes)\n",
    "y_test_encoded = to_categorical(y_test, num_classes)\n",
    "\n",
    "# Build the CNN model\n",
    "model = Sequential()\n",
    "model.add(Conv1D(32, kernel_size=3, activation='relu', input_shape=(X_train.shape[1], 1)))\n",
    "model.add(MaxPooling1D(pool_size=2))\n",
    "model.add(Conv1D(64, kernel_size=3, activation='relu'))\n",
    "model.add(MaxPooling1D(pool_size=2))\n",
    "model.add(Flatten())\n",
    "model.add(Dense(128, activation='relu'))\n",
    "model.add(Dense(num_classes, activation='softmax'))\n",
    "\n",
    "# Compile the model\n",
    "model.compile(optimizer='adam', loss='categorical_crossentropy', metrics=['accuracy'])\n",
    "\n",
    "# Train the model\n",
    "model.fit(X_train, y_train_encoded, epochs=10, batch_size=64, validation_data=(X_test, y_test_encoded))"
   ]
  },
  {
   "cell_type": "code",
   "execution_count": 18,
   "metadata": {
    "colab": {
     "base_uri": "https://localhost:8080/"
    },
    "id": "SsWvaWDMGiMh",
    "outputId": "5c02a9ac-023d-4833-ff0a-18bc706df2cf"
   },
   "outputs": [
    {
     "name": "stdout",
     "output_type": "stream",
     "text": [
      "\u001b[1m55/55\u001b[0m \u001b[32m━━━━━━━━━━━━━━━━━━━━\u001b[0m\u001b[37m\u001b[0m \u001b[1m0s\u001b[0m 7ms/step - accuracy: 0.9599 - loss: 0.4833\n",
      "Test Accuracy: 0.9630\n"
     ]
    }
   ],
   "source": [
    "from sklearn.metrics import precision_score, recall_score, f1_score\n",
    "# Evaluate the model on the test data\n",
    "from keras.utils import to_categorical\n",
    "\n",
    "# Encode target labels as one-hot vectors\n",
    "num_classes = 3\n",
    "y_test_encoded = to_categorical(y_test, num_classes)\n",
    "\n",
    "# Evaluate the model\n",
    "loss, accuracy = model.evaluate(X_test, y_test_encoded)\n",
    "print(f\"Test Accuracy: {accuracy:.4f}\")"
   ]
  },
  {
   "cell_type": "code",
   "execution_count": 19,
   "metadata": {
    "colab": {
     "base_uri": "https://localhost:8080/"
    },
    "id": "JbMxlKBRuiMX",
    "outputId": "b0aaa0f3-cb0f-4231-ca4f-6c33b411f4d3"
   },
   "outputs": [
    {
     "name": "stdout",
     "output_type": "stream",
     "text": [
      "\u001b[1m55/55\u001b[0m \u001b[32m━━━━━━━━━━━━━━━━━━━━\u001b[0m\u001b[37m\u001b[0m \u001b[1m1s\u001b[0m 6ms/step\n"
     ]
    }
   ],
   "source": [
    "y_pred = model.predict(X_test)"
   ]
  },
  {
   "cell_type": "code",
   "execution_count": 20,
   "metadata": {
    "id": "mrTyRkrRuokt"
   },
   "outputs": [],
   "source": [
    "kmeans = KMeans(n_clusters=3, random_state=42)\n",
    "kmeans.fit(X_selected)\n",
    "best_clusters = kmeans.predict(X_selected)\n",
    "df['cluster1'] = best_clusters\n",
    "high_caloric1 = df[best_clusters == 0]\n",
    "mid_caloric1 = df[best_clusters == 1]\n",
    "low_caloric1 = df[best_clusters == 2]"
   ]
  },
  {
   "cell_type": "code",
   "execution_count": 21,
   "metadata": {
    "colab": {
     "base_uri": "https://localhost:8080/",
     "height": 564
    },
    "id": "XSNjoHoFPG_z",
    "outputId": "c37d0ecd-cdc7-4017-9517-fb3edfd64b9a"
   },
   "outputs": [
    {
     "data": {
      "image/png": "[encoded data removed]",
      "text/plain": [
       "<Figure size 1000x600 with 1 Axes>"
      ]
     },
     "metadata": {},
     "output_type": "display_data"
    }
   ],
   "source": [
    "import matplotlib.pyplot as plt\n",
    "\n",
    "# Select the columns of interest\n",
    "columns_to_visualize = ['Energ_Kcal', 'cluster']\n",
    "\n",
    "# Get the subset of the DataFrame for the selected columns\n",
    "subset = df[columns_to_visualize]\n",
    "\n",
    "# Set the figure size\n",
    "plt.figure(figsize=(10, 6))\n",
    "\n",
    "# Create the line plot\n",
    "for caloric_level in subset['cluster'].unique():\n",
    "    level_data = subset[subset['cluster'] == caloric_level]\n",
    "    plt.plot(level_data.index, level_data['Energ_Kcal'], label=caloric_level)\n",
    "\n",
    "plt.xlabel('Index')\n",
    "plt.ylabel('Energ_Kcal')\n",
    "plt.title('Change in Energ_Kcal at Various Caloric Levels')\n",
    "plt.legend()\n",
    "\n",
    "# Show the plot\n",
    "plt.show()"
   ]
  },
  {
   "cell_type": "markdown",
   "metadata": {
    "id": "8wiz48agnnhM"
   },
   "source": [
    "Recommendation system"
   ]
  },
  {
   "cell_type": "code",
   "execution_count": 22,
   "metadata": {
    "id": "v_Jlh8LOleFb"
   },
   "outputs": [],
   "source": [
    "def recommend_diets(caloric_level,caloric_value , n=10):\n",
    "    # Filter the dataset based on the caloric level\n",
    "    filtered_data = df[df['cluster'] == caloric_level]\n",
    "\n",
    "    # Sort the diets based on some criteria (e.g., nutrients)\n",
    "    sorted_diets = filtered_data.sort_values(by=['Energ_Kcal'], ascending=False)\n",
    "\n",
    "    # Return the top n recommended diets\n",
    "    dff = sorted_diets\n",
    "    recommended_diets = dff[(dff['Energ_Kcal'] >= caloric_value) & (df['Energ_Kcal'] <= caloric_value + 10)]\n",
    "\n",
    "    return recommended_diets.head(n)\n",
    "\n",
    "# Example usage:\n",
    "top_10_diets_low_calorie = recommend_diets('low', 120,  n=10)\n",
    "top_10_diets_mid_calorie = recommend_diets('mid', 300, n=10)\n",
    "top_10_diets_high_calorie = recommend_diets('high', 800, n=10)"
   ]
  },
  {
   "cell_type": "markdown",
   "metadata": {
    "id": "OOSBoZvbpXGK"
   },
   "source": [
    "Code for pregnancy woman input"
   ]
  },
  {
   "cell_type": "code",
   "execution_count": 25,
   "metadata": {
    "colab": {
     "base_uri": "https://localhost:8080/"
    },
    "id": "99fjS3wm4PGL",
    "outputId": "95fafda1-2596-4adb-dff4-442ec64d1c63"
   },
   "outputs": [
    {
     "name": "stdin",
     "output_type": "stream",
     "text": [
      "Enter your age in years:  15\n",
      "Enter your height in meters:  25\n",
      "Enter your weight in kilograms:  30\n",
      "Enter your pregnancy stage (FirstTrimester, SecondTrimester, ThirdTrimester):  FirstTrimester\n",
      "Enter your activity level (Sedentary, Light Active, Moderately Active, Very Active):  Sedentary\n"
     ]
    },
    {
     "name": "stdout",
     "output_type": "stream",
     "text": [
      "Your recommended caloric intake is: 264.3 calories per day.\n",
      "Caloric Intake Classification: low\n",
      "Empty DataFrame\n",
      "Columns: [Shrt_Desc, Energ_Kcal]\n",
      "Index: []\n"
     ]
    }
   ],
   "source": [
    "def nutrients(age, height, weight, preg_stage, active):\n",
    "    if active == 'Sedentary':\n",
    "        active = 1.2\n",
    "    elif active == \"Light Active\":\n",
    "        active = 1.375\n",
    "    elif active == \"Moderately Active\":\n",
    "        active = 1.55\n",
    "    elif active == \"Very Active\":\n",
    "        active = 1.75\n",
    "\n",
    "    bmi = weight / (height * height)\n",
    "    if bmi < 18.5:\n",
    "        person = 'Underweight'\n",
    "        if preg_stage == \"FirstTrimester\":\n",
    "            goal = 2\n",
    "        elif preg_stage == \"SecondTrimester\":\n",
    "            goal = 10\n",
    "        elif preg_stage == \"ThirdTrimester\":\n",
    "            goal = 18\n",
    "    elif bmi >= 18.5 and bmi <= 25:\n",
    "        person = 'Health in Weight'\n",
    "        if preg_stage == \"FirstTrimester\":\n",
    "            goal = 2\n",
    "        elif preg_stage == \"SecondTrimester\":\n",
    "            goal = 10\n",
    "        elif preg_stage == \"ThirdTrimester\":\n",
    "            goal = 16\n",
    "    elif bmi > 25:\n",
    "        person = 'Overweight'\n",
    "        if preg_stage == \"FirstTrimester\":\n",
    "            goal = 2\n",
    "        elif preg_stage == \"SecondTrimester\":\n",
    "            goal = 7\n",
    "        elif preg_stage == \"ThirdTrimester\":\n",
    "            goal = 11\n",
    "\n",
    "    # Mifflin-St Jeor BMR equation to get the BMR formula\n",
    "    bmr = 10 * weight + 6.25 * height - 5 * age - 161\n",
    "\n",
    "    # Needed calories = BMR multiplied by the activity level\n",
    "    caloric_intake = bmr * float(active)\n",
    "\n",
    "    return caloric_intake\n",
    "\n",
    "def classify_caloric_intake(caloric_intake):\n",
    "    if caloric_intake < 300:\n",
    "        classification = \"low\"\n",
    "    elif caloric_intake >= 300 and caloric_intake <= 350:\n",
    "        classification = \"mid\"\n",
    "    else:\n",
    "        classification = \"high\"\n",
    "\n",
    "    return classification\n",
    "\n",
    "# Collect user input\n",
    "age = int(input(\"Enter your age in years: \"))\n",
    "height = float(input(\"Enter your height in meters: \"))\n",
    "weight = float(input(\"Enter your weight in kilograms: \"))\n",
    "preg_stage = input(\"Enter your pregnancy stage (FirstTrimester, SecondTrimester, ThirdTrimester): \")\n",
    "active = input(\"Enter your activity level (Sedentary, Light Active, Moderately Active, Very Active): \")\n",
    "\n",
    "# Calculate caloric intake\n",
    "caloric_intake = nutrients(age, height, weight, preg_stage, active)\n",
    "\n",
    "# Classify caloric intake\n",
    "caloric_classification = classify_caloric_intake(caloric_intake)\n",
    "\n",
    "# Display the result\n",
    "print(\"Your recommended caloric intake is:\", caloric_intake, \"calories per day.\")\n",
    "print(\"Caloric Intake Classification:\", caloric_classification)\n",
    "result = recommend_diets(caloric_classification, caloric_intake, n=5)\n",
    "print(result[['Shrt_Desc', 'Energ_Kcal']].to_string(index=False))\n"
   ]
  },
  {
   "cell_type": "code",
   "execution_count": null,
   "metadata": {},
   "outputs": [],
   "source": []
  },
  {
   "cell_type": "code",
   "execution_count": 27,
   "metadata": {
    "colab": {
     "base_uri": "https://localhost:8080/",
     "height": 381
    },
    "id": "hBXjBWP_gBUa",
    "outputId": "4b271239-27fd-4ee7-e2a4-6c17d7706626"
   },
   "outputs": [
    {
     "ename": "SyntaxError",
     "evalue": "invalid decimal literal (877345124.py, line 1)",
     "output_type": "error",
     "traceback": [
      "\u001b[1;36m  Cell \u001b[1;32mIn[27], line 1\u001b[1;36m\u001b[0m\n\u001b[1;33m    15top_10_diets = df[df['Energ_Kcal'] < caloric_intake + 100].sort_values(by=['Energ_Kcal'], ascending=False).head(10)\u001b[0m\n\u001b[1;37m     ^\u001b[0m\n\u001b[1;31mSyntaxError\u001b[0m\u001b[1;31m:\u001b[0m invalid decimal literal\n"
     ]
    }
   ],
   "source": [
    "15top_10_diets = df[df['Energ_Kcal'] < caloric_intake + 100].sort_values(by=['Energ_Kcal'], ascending=False).head(10)\n",
    "print(round(caloric_intake, 2), \"calories recommended per day\")\n",
    "top_10_diets[[\"Shrt_Desc\", \"Energ_Kcal\"]]\n",
    "\n"
   ]
  },
  {
   "cell_type": "code",
   "execution_count": null,
   "metadata": {},
   "outputs": [],
   "source": []
  }
 ],
 "metadata": {
  "colab": {
   "provenance": []
  },
  "kernelspec": {
   "display_name": "Python 3 (ipykernel)",
   "language": "python",
   "name": "python3"
  },
  "language_info": {
   "codemirror_mode": {
    "name": "ipython",
    "version": 3
   },
   "file_extension": ".py",
   "mimetype": "text/x-python",
   "name": "python",
   "nbconvert_exporter": "python",
   "pygments_lexer": "ipython3",
   "version": "3.11.7"
  }
 },
 "nbformat": 4,
 "nbformat_minor": 4
}
